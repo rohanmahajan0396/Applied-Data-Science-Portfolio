{
 "cells": [
  {
   "cell_type": "code",
   "execution_count": 1,
   "metadata": {},
   "outputs": [],
   "source": [
    "from pyspark.sql import SparkSession \n",
    "from pyspark.sql import functions as fn, Row\n",
    "spark = SparkSession.builder.appName('project_loan').getOrCreate()\n",
    "sc = spark.sparkContext"
   ]
  },
  {
   "cell_type": "code",
   "execution_count": 2,
   "metadata": {},
   "outputs": [],
   "source": [
    "df = spark.read.format(\"csv\").\\\n",
    "    option(\"header\", \"true\").\\\n",
    "    option(\"inferSchema\", \"true\").\\\n",
    "     load(\"application_train.csv\")"
   ]
  },
  {
   "cell_type": "code",
   "execution_count": 3,
   "metadata": {},
   "outputs": [],
   "source": [
    "vars1=df.schema.names"
   ]
  },
  {
   "cell_type": "code",
   "execution_count": 4,
   "metadata": {},
   "outputs": [
    {
     "data": {
      "text/plain": [
       "122"
      ]
     },
     "execution_count": 4,
     "metadata": {},
     "output_type": "execute_result"
    }
   ],
   "source": [
    "len(vars1)"
   ]
  },
  {
   "cell_type": "code",
   "execution_count": 5,
   "metadata": {},
   "outputs": [],
   "source": [
    "clean_df = df.dropna()"
   ]
  },
  {
   "cell_type": "code",
   "execution_count": 6,
   "metadata": {},
   "outputs": [
    {
     "data": {
      "text/plain": [
       "8602"
      ]
     },
     "execution_count": 6,
     "metadata": {},
     "output_type": "execute_result"
    }
   ],
   "source": [
    "clean_df.count()"
   ]
  },
  {
   "cell_type": "code",
   "execution_count": 7,
   "metadata": {},
   "outputs": [
    {
     "data": {
      "text/html": [
       "<div>\n",
       "<style scoped>\n",
       "    .dataframe tbody tr th:only-of-type {\n",
       "        vertical-align: middle;\n",
       "    }\n",
       "\n",
       "    .dataframe tbody tr th {\n",
       "        vertical-align: top;\n",
       "    }\n",
       "\n",
       "    .dataframe thead th {\n",
       "        text-align: right;\n",
       "    }\n",
       "</style>\n",
       "<table border=\"1\" class=\"dataframe\">\n",
       "  <thead>\n",
       "    <tr style=\"text-align: right;\">\n",
       "      <th></th>\n",
       "      <th>SK_ID_CURR</th>\n",
       "      <th>TARGET</th>\n",
       "      <th>NAME_CONTRACT_TYPE</th>\n",
       "      <th>CODE_GENDER</th>\n",
       "      <th>FLAG_OWN_CAR</th>\n",
       "      <th>FLAG_OWN_REALTY</th>\n",
       "      <th>CNT_CHILDREN</th>\n",
       "      <th>AMT_INCOME_TOTAL</th>\n",
       "      <th>AMT_CREDIT</th>\n",
       "      <th>AMT_ANNUITY</th>\n",
       "      <th>...</th>\n",
       "      <th>FLAG_DOCUMENT_18</th>\n",
       "      <th>FLAG_DOCUMENT_19</th>\n",
       "      <th>FLAG_DOCUMENT_20</th>\n",
       "      <th>FLAG_DOCUMENT_21</th>\n",
       "      <th>AMT_REQ_CREDIT_BUREAU_HOUR</th>\n",
       "      <th>AMT_REQ_CREDIT_BUREAU_DAY</th>\n",
       "      <th>AMT_REQ_CREDIT_BUREAU_WEEK</th>\n",
       "      <th>AMT_REQ_CREDIT_BUREAU_MON</th>\n",
       "      <th>AMT_REQ_CREDIT_BUREAU_QRT</th>\n",
       "      <th>AMT_REQ_CREDIT_BUREAU_YEAR</th>\n",
       "    </tr>\n",
       "  </thead>\n",
       "  <tbody>\n",
       "    <tr>\n",
       "      <th>0</th>\n",
       "      <td>100002</td>\n",
       "      <td>1</td>\n",
       "      <td>Cash loans</td>\n",
       "      <td>M</td>\n",
       "      <td>N</td>\n",
       "      <td>Y</td>\n",
       "      <td>0</td>\n",
       "      <td>202500.0</td>\n",
       "      <td>406597.5</td>\n",
       "      <td>24700.5</td>\n",
       "      <td>...</td>\n",
       "      <td>0</td>\n",
       "      <td>0</td>\n",
       "      <td>0</td>\n",
       "      <td>0</td>\n",
       "      <td>0.0</td>\n",
       "      <td>0.0</td>\n",
       "      <td>0.0</td>\n",
       "      <td>0.0</td>\n",
       "      <td>0.0</td>\n",
       "      <td>1.0</td>\n",
       "    </tr>\n",
       "    <tr>\n",
       "      <th>1</th>\n",
       "      <td>100003</td>\n",
       "      <td>0</td>\n",
       "      <td>Cash loans</td>\n",
       "      <td>F</td>\n",
       "      <td>N</td>\n",
       "      <td>N</td>\n",
       "      <td>0</td>\n",
       "      <td>270000.0</td>\n",
       "      <td>1293502.5</td>\n",
       "      <td>35698.5</td>\n",
       "      <td>...</td>\n",
       "      <td>0</td>\n",
       "      <td>0</td>\n",
       "      <td>0</td>\n",
       "      <td>0</td>\n",
       "      <td>0.0</td>\n",
       "      <td>0.0</td>\n",
       "      <td>0.0</td>\n",
       "      <td>0.0</td>\n",
       "      <td>0.0</td>\n",
       "      <td>0.0</td>\n",
       "    </tr>\n",
       "    <tr>\n",
       "      <th>2</th>\n",
       "      <td>100004</td>\n",
       "      <td>0</td>\n",
       "      <td>Revolving loans</td>\n",
       "      <td>M</td>\n",
       "      <td>Y</td>\n",
       "      <td>Y</td>\n",
       "      <td>0</td>\n",
       "      <td>67500.0</td>\n",
       "      <td>135000.0</td>\n",
       "      <td>6750.0</td>\n",
       "      <td>...</td>\n",
       "      <td>0</td>\n",
       "      <td>0</td>\n",
       "      <td>0</td>\n",
       "      <td>0</td>\n",
       "      <td>0.0</td>\n",
       "      <td>0.0</td>\n",
       "      <td>0.0</td>\n",
       "      <td>0.0</td>\n",
       "      <td>0.0</td>\n",
       "      <td>0.0</td>\n",
       "    </tr>\n",
       "    <tr>\n",
       "      <th>3</th>\n",
       "      <td>100006</td>\n",
       "      <td>0</td>\n",
       "      <td>Cash loans</td>\n",
       "      <td>F</td>\n",
       "      <td>N</td>\n",
       "      <td>Y</td>\n",
       "      <td>0</td>\n",
       "      <td>135000.0</td>\n",
       "      <td>312682.5</td>\n",
       "      <td>29686.5</td>\n",
       "      <td>...</td>\n",
       "      <td>0</td>\n",
       "      <td>0</td>\n",
       "      <td>0</td>\n",
       "      <td>0</td>\n",
       "      <td>NaN</td>\n",
       "      <td>NaN</td>\n",
       "      <td>NaN</td>\n",
       "      <td>NaN</td>\n",
       "      <td>NaN</td>\n",
       "      <td>NaN</td>\n",
       "    </tr>\n",
       "    <tr>\n",
       "      <th>4</th>\n",
       "      <td>100007</td>\n",
       "      <td>0</td>\n",
       "      <td>Cash loans</td>\n",
       "      <td>M</td>\n",
       "      <td>N</td>\n",
       "      <td>Y</td>\n",
       "      <td>0</td>\n",
       "      <td>121500.0</td>\n",
       "      <td>513000.0</td>\n",
       "      <td>21865.5</td>\n",
       "      <td>...</td>\n",
       "      <td>0</td>\n",
       "      <td>0</td>\n",
       "      <td>0</td>\n",
       "      <td>0</td>\n",
       "      <td>0.0</td>\n",
       "      <td>0.0</td>\n",
       "      <td>0.0</td>\n",
       "      <td>0.0</td>\n",
       "      <td>0.0</td>\n",
       "      <td>0.0</td>\n",
       "    </tr>\n",
       "    <tr>\n",
       "      <th>5</th>\n",
       "      <td>100008</td>\n",
       "      <td>0</td>\n",
       "      <td>Cash loans</td>\n",
       "      <td>M</td>\n",
       "      <td>N</td>\n",
       "      <td>Y</td>\n",
       "      <td>0</td>\n",
       "      <td>99000.0</td>\n",
       "      <td>490495.5</td>\n",
       "      <td>27517.5</td>\n",
       "      <td>...</td>\n",
       "      <td>0</td>\n",
       "      <td>0</td>\n",
       "      <td>0</td>\n",
       "      <td>0</td>\n",
       "      <td>0.0</td>\n",
       "      <td>0.0</td>\n",
       "      <td>0.0</td>\n",
       "      <td>0.0</td>\n",
       "      <td>1.0</td>\n",
       "      <td>1.0</td>\n",
       "    </tr>\n",
       "    <tr>\n",
       "      <th>6</th>\n",
       "      <td>100009</td>\n",
       "      <td>0</td>\n",
       "      <td>Cash loans</td>\n",
       "      <td>F</td>\n",
       "      <td>Y</td>\n",
       "      <td>Y</td>\n",
       "      <td>1</td>\n",
       "      <td>171000.0</td>\n",
       "      <td>1560726.0</td>\n",
       "      <td>41301.0</td>\n",
       "      <td>...</td>\n",
       "      <td>0</td>\n",
       "      <td>0</td>\n",
       "      <td>0</td>\n",
       "      <td>0</td>\n",
       "      <td>0.0</td>\n",
       "      <td>0.0</td>\n",
       "      <td>0.0</td>\n",
       "      <td>1.0</td>\n",
       "      <td>1.0</td>\n",
       "      <td>2.0</td>\n",
       "    </tr>\n",
       "    <tr>\n",
       "      <th>7</th>\n",
       "      <td>100010</td>\n",
       "      <td>0</td>\n",
       "      <td>Cash loans</td>\n",
       "      <td>M</td>\n",
       "      <td>Y</td>\n",
       "      <td>Y</td>\n",
       "      <td>0</td>\n",
       "      <td>360000.0</td>\n",
       "      <td>1530000.0</td>\n",
       "      <td>42075.0</td>\n",
       "      <td>...</td>\n",
       "      <td>0</td>\n",
       "      <td>0</td>\n",
       "      <td>0</td>\n",
       "      <td>0</td>\n",
       "      <td>0.0</td>\n",
       "      <td>0.0</td>\n",
       "      <td>0.0</td>\n",
       "      <td>0.0</td>\n",
       "      <td>0.0</td>\n",
       "      <td>0.0</td>\n",
       "    </tr>\n",
       "    <tr>\n",
       "      <th>8</th>\n",
       "      <td>100011</td>\n",
       "      <td>0</td>\n",
       "      <td>Cash loans</td>\n",
       "      <td>F</td>\n",
       "      <td>N</td>\n",
       "      <td>Y</td>\n",
       "      <td>0</td>\n",
       "      <td>112500.0</td>\n",
       "      <td>1019610.0</td>\n",
       "      <td>33826.5</td>\n",
       "      <td>...</td>\n",
       "      <td>0</td>\n",
       "      <td>0</td>\n",
       "      <td>0</td>\n",
       "      <td>0</td>\n",
       "      <td>0.0</td>\n",
       "      <td>0.0</td>\n",
       "      <td>0.0</td>\n",
       "      <td>0.0</td>\n",
       "      <td>0.0</td>\n",
       "      <td>1.0</td>\n",
       "    </tr>\n",
       "    <tr>\n",
       "      <th>9</th>\n",
       "      <td>100012</td>\n",
       "      <td>0</td>\n",
       "      <td>Revolving loans</td>\n",
       "      <td>M</td>\n",
       "      <td>N</td>\n",
       "      <td>Y</td>\n",
       "      <td>0</td>\n",
       "      <td>135000.0</td>\n",
       "      <td>405000.0</td>\n",
       "      <td>20250.0</td>\n",
       "      <td>...</td>\n",
       "      <td>0</td>\n",
       "      <td>0</td>\n",
       "      <td>0</td>\n",
       "      <td>0</td>\n",
       "      <td>NaN</td>\n",
       "      <td>NaN</td>\n",
       "      <td>NaN</td>\n",
       "      <td>NaN</td>\n",
       "      <td>NaN</td>\n",
       "      <td>NaN</td>\n",
       "    </tr>\n",
       "  </tbody>\n",
       "</table>\n",
       "<p>10 rows × 122 columns</p>\n",
       "</div>"
      ],
      "text/plain": [
       "   SK_ID_CURR  TARGET NAME_CONTRACT_TYPE CODE_GENDER FLAG_OWN_CAR  \\\n",
       "0      100002       1         Cash loans           M            N   \n",
       "1      100003       0         Cash loans           F            N   \n",
       "2      100004       0    Revolving loans           M            Y   \n",
       "3      100006       0         Cash loans           F            N   \n",
       "4      100007       0         Cash loans           M            N   \n",
       "5      100008       0         Cash loans           M            N   \n",
       "6      100009       0         Cash loans           F            Y   \n",
       "7      100010       0         Cash loans           M            Y   \n",
       "8      100011       0         Cash loans           F            N   \n",
       "9      100012       0    Revolving loans           M            N   \n",
       "\n",
       "  FLAG_OWN_REALTY  CNT_CHILDREN  AMT_INCOME_TOTAL  AMT_CREDIT  AMT_ANNUITY  \\\n",
       "0               Y             0          202500.0    406597.5      24700.5   \n",
       "1               N             0          270000.0   1293502.5      35698.5   \n",
       "2               Y             0           67500.0    135000.0       6750.0   \n",
       "3               Y             0          135000.0    312682.5      29686.5   \n",
       "4               Y             0          121500.0    513000.0      21865.5   \n",
       "5               Y             0           99000.0    490495.5      27517.5   \n",
       "6               Y             1          171000.0   1560726.0      41301.0   \n",
       "7               Y             0          360000.0   1530000.0      42075.0   \n",
       "8               Y             0          112500.0   1019610.0      33826.5   \n",
       "9               Y             0          135000.0    405000.0      20250.0   \n",
       "\n",
       "              ...              FLAG_DOCUMENT_18 FLAG_DOCUMENT_19  \\\n",
       "0             ...                             0                0   \n",
       "1             ...                             0                0   \n",
       "2             ...                             0                0   \n",
       "3             ...                             0                0   \n",
       "4             ...                             0                0   \n",
       "5             ...                             0                0   \n",
       "6             ...                             0                0   \n",
       "7             ...                             0                0   \n",
       "8             ...                             0                0   \n",
       "9             ...                             0                0   \n",
       "\n",
       "  FLAG_DOCUMENT_20 FLAG_DOCUMENT_21 AMT_REQ_CREDIT_BUREAU_HOUR  \\\n",
       "0                0                0                        0.0   \n",
       "1                0                0                        0.0   \n",
       "2                0                0                        0.0   \n",
       "3                0                0                        NaN   \n",
       "4                0                0                        0.0   \n",
       "5                0                0                        0.0   \n",
       "6                0                0                        0.0   \n",
       "7                0                0                        0.0   \n",
       "8                0                0                        0.0   \n",
       "9                0                0                        NaN   \n",
       "\n",
       "  AMT_REQ_CREDIT_BUREAU_DAY  AMT_REQ_CREDIT_BUREAU_WEEK  \\\n",
       "0                       0.0                         0.0   \n",
       "1                       0.0                         0.0   \n",
       "2                       0.0                         0.0   \n",
       "3                       NaN                         NaN   \n",
       "4                       0.0                         0.0   \n",
       "5                       0.0                         0.0   \n",
       "6                       0.0                         0.0   \n",
       "7                       0.0                         0.0   \n",
       "8                       0.0                         0.0   \n",
       "9                       NaN                         NaN   \n",
       "\n",
       "   AMT_REQ_CREDIT_BUREAU_MON  AMT_REQ_CREDIT_BUREAU_QRT  \\\n",
       "0                        0.0                        0.0   \n",
       "1                        0.0                        0.0   \n",
       "2                        0.0                        0.0   \n",
       "3                        NaN                        NaN   \n",
       "4                        0.0                        0.0   \n",
       "5                        0.0                        1.0   \n",
       "6                        1.0                        1.0   \n",
       "7                        0.0                        0.0   \n",
       "8                        0.0                        0.0   \n",
       "9                        NaN                        NaN   \n",
       "\n",
       "   AMT_REQ_CREDIT_BUREAU_YEAR  \n",
       "0                         1.0  \n",
       "1                         0.0  \n",
       "2                         0.0  \n",
       "3                         NaN  \n",
       "4                         0.0  \n",
       "5                         1.0  \n",
       "6                         2.0  \n",
       "7                         0.0  \n",
       "8                         1.0  \n",
       "9                         NaN  \n",
       "\n",
       "[10 rows x 122 columns]"
      ]
     },
     "execution_count": 7,
     "metadata": {},
     "output_type": "execute_result"
    }
   ],
   "source": [
    "df.limit(10).toPandas()"
   ]
  },
  {
   "cell_type": "code",
   "execution_count": 8,
   "metadata": {},
   "outputs": [
    {
     "name": "stdout",
     "output_type": "stream",
     "text": [
      "+------+------+\n",
      "|TARGET| count|\n",
      "+------+------+\n",
      "|     1| 24825|\n",
      "|     0|282686|\n",
      "+------+------+\n",
      "\n"
     ]
    }
   ],
   "source": [
    "df.groupBy('TARGET').count().show()"
   ]
  },
  {
   "cell_type": "code",
   "execution_count": 9,
   "metadata": {},
   "outputs": [
    {
     "name": "stdout",
     "output_type": "stream",
     "text": [
      "+------------------+------+\n",
      "|NAME_CONTRACT_TYPE| count|\n",
      "+------------------+------+\n",
      "|   Revolving loans| 29279|\n",
      "|        Cash loans|278232|\n",
      "+------------------+------+\n",
      "\n"
     ]
    }
   ],
   "source": [
    "df.groupBy('NAME_CONTRACT_TYPE').count().show()"
   ]
  },
  {
   "cell_type": "code",
   "execution_count": 10,
   "metadata": {},
   "outputs": [
    {
     "name": "stdout",
     "output_type": "stream",
     "text": [
      "+---------------+------+\n",
      "|NAME_TYPE_SUITE| count|\n",
      "+---------------+------+\n",
      "|Spouse, partner| 11370|\n",
      "|        Other_A|   866|\n",
      "|           null|  1292|\n",
      "|         Family| 40149|\n",
      "|Group of people|   271|\n",
      "|        Other_B|  1770|\n",
      "|  Unaccompanied|248526|\n",
      "|       Children|  3267|\n",
      "+---------------+------+\n",
      "\n"
     ]
    }
   ],
   "source": [
    "df.groupBy('NAME_TYPE_SUITE').count().show()"
   ]
  },
  {
   "cell_type": "code",
   "execution_count": 11,
   "metadata": {},
   "outputs": [],
   "source": [
    "df_clean = df.filter(df.NAME_TYPE_SUITE.isNotNull())"
   ]
  },
  {
   "cell_type": "code",
   "execution_count": 12,
   "metadata": {},
   "outputs": [
    {
     "name": "stdout",
     "output_type": "stream",
     "text": [
      "+---------------+------+\n",
      "|NAME_TYPE_SUITE| count|\n",
      "+---------------+------+\n",
      "|Spouse, partner| 11370|\n",
      "|        Other_A|   866|\n",
      "|         Family| 40149|\n",
      "|Group of people|   271|\n",
      "|        Other_B|  1770|\n",
      "|  Unaccompanied|248526|\n",
      "|       Children|  3267|\n",
      "+---------------+------+\n",
      "\n"
     ]
    }
   ],
   "source": [
    "df_clean.groupBy('NAME_TYPE_SUITE').count().show()"
   ]
  },
  {
   "cell_type": "code",
   "execution_count": 13,
   "metadata": {},
   "outputs": [],
   "source": [
    "from pyspark.sql import functions as F\n",
    "\n",
    "def quick_dummies(data, col_name, join_col):\n",
    "    # select columns\n",
    "    test = data.select(join_col, col_name)\n",
    "    # map out all categories in column\n",
    "    categories = test.select(col_name).distinct().rdd.flatMap(lambda x: x).collect()\n",
    "    # creatre expression to append 1 for column that corresponds with dummy\n",
    "    exprs = [F.when(F.col(col_name) == category, 1).otherwise(0).alias(category)\n",
    "         for category in categories]\n",
    "    # apply expression\n",
    "    dummy=test.select(join_col, *exprs)\n",
    "    \n",
    "    return(dummy)"
   ]
  },
  {
   "cell_type": "code",
   "execution_count": 14,
   "metadata": {},
   "outputs": [],
   "source": [
    "suite_dummy=quick_dummies(df_clean, 'NAME_TYPE_SUITE', 'SK_ID_CURR')"
   ]
  },
  {
   "cell_type": "code",
   "execution_count": 15,
   "metadata": {},
   "outputs": [
    {
     "name": "stdout",
     "output_type": "stream",
     "text": [
      "+------------------+------+\n",
      "|NAME_CONTRACT_TYPE| count|\n",
      "+------------------+------+\n",
      "|   Revolving loans| 28994|\n",
      "|        Cash loans|277225|\n",
      "+------------------+------+\n",
      "\n"
     ]
    }
   ],
   "source": [
    "df_clean.groupBy('NAME_CONTRACT_TYPE').count().show()"
   ]
  },
  {
   "cell_type": "code",
   "execution_count": 16,
   "metadata": {},
   "outputs": [
    {
     "data": {
      "text/plain": [
       "306219"
      ]
     },
     "execution_count": 16,
     "metadata": {},
     "output_type": "execute_result"
    }
   ],
   "source": [
    "df_clean.count()"
   ]
  },
  {
   "cell_type": "code",
   "execution_count": 17,
   "metadata": {},
   "outputs": [
    {
     "name": "stdout",
     "output_type": "stream",
     "text": [
      "+--------------------+------+\n",
      "|    NAME_INCOME_TYPE| count|\n",
      "+--------------------+------+\n",
      "|             Student|    17|\n",
      "|Commercial associate| 71257|\n",
      "|         Businessman|    10|\n",
      "|     Maternity leave|     5|\n",
      "|       State servant| 21612|\n",
      "|             Working|158132|\n",
      "|           Pensioner| 55164|\n",
      "|          Unemployed|    22|\n",
      "+--------------------+------+\n",
      "\n"
     ]
    }
   ],
   "source": [
    "df_clean.groupby('NAME_INCOME_TYPE').count().show()"
   ]
  },
  {
   "cell_type": "code",
   "execution_count": 18,
   "metadata": {},
   "outputs": [],
   "source": [
    "income_dummy=quick_dummies(df_clean, 'NAME_INCOME_TYPE', 'SK_ID_CURR')"
   ]
  },
  {
   "cell_type": "code",
   "execution_count": 19,
   "metadata": {},
   "outputs": [
    {
     "name": "stdout",
     "output_type": "stream",
     "text": [
      "+-----------------------------+------+\n",
      "|NAME_EDUCATION_TYPE          |count |\n",
      "+-----------------------------+------+\n",
      "|Academic degree              |163   |\n",
      "|Incomplete higher            |10242 |\n",
      "|Secondary / secondary special|217586|\n",
      "|Lower secondary              |3810  |\n",
      "|Higher education             |74418 |\n",
      "+-----------------------------+------+\n",
      "\n"
     ]
    }
   ],
   "source": [
    "df_clean.groupby('NAME_EDUCATION_TYPE').count().show(30,False)"
   ]
  },
  {
   "cell_type": "code",
   "execution_count": 20,
   "metadata": {},
   "outputs": [],
   "source": [
    "edu_dummy=quick_dummies(df_clean, 'NAME_EDUCATION_TYPE', 'SK_ID_CURR')"
   ]
  },
  {
   "cell_type": "code",
   "execution_count": 21,
   "metadata": {},
   "outputs": [
    {
     "name": "stdout",
     "output_type": "stream",
     "text": [
      "+--------------------+------+\n",
      "|  NAME_FAMILY_STATUS| count|\n",
      "+--------------------+------+\n",
      "|           Separated| 19695|\n",
      "|             Married|195648|\n",
      "|Single / not married| 45200|\n",
      "|               Widow| 16015|\n",
      "|      Civil marriage| 29661|\n",
      "+--------------------+------+\n",
      "\n"
     ]
    }
   ],
   "source": [
    "df_clean.groupby('NAME_FAMILY_STATUS').count().show()"
   ]
  },
  {
   "cell_type": "code",
   "execution_count": 22,
   "metadata": {},
   "outputs": [],
   "source": [
    "fam_dummy=quick_dummies(df_clean, 'NAME_FAMILY_STATUS', 'SK_ID_CURR')"
   ]
  },
  {
   "cell_type": "code",
   "execution_count": 23,
   "metadata": {},
   "outputs": [
    {
     "name": "stdout",
     "output_type": "stream",
     "text": [
      "+-------------------+------+\n",
      "|  NAME_HOUSING_TYPE| count|\n",
      "+-------------------+------+\n",
      "|  House / apartment|271719|\n",
      "|Municipal apartment| 11147|\n",
      "|    Co-op apartment|  1113|\n",
      "|   Rented apartment|  4863|\n",
      "|   Office apartment|  2603|\n",
      "|       With parents| 14774|\n",
      "+-------------------+------+\n",
      "\n"
     ]
    }
   ],
   "source": [
    "df_clean.groupby('NAME_HOUSING_TYPE').count().show()"
   ]
  },
  {
   "cell_type": "code",
   "execution_count": 24,
   "metadata": {},
   "outputs": [],
   "source": [
    "house_dummy=quick_dummies(df_clean, 'NAME_HOUSING_TYPE', 'SK_ID_CURR')"
   ]
  },
  {
   "cell_type": "code",
   "execution_count": 25,
   "metadata": {},
   "outputs": [
    {
     "name": "stdout",
     "output_type": "stream",
     "text": [
      "+---------------------+-----+\n",
      "|OCCUPATION_TYPE      |count|\n",
      "+---------------------+-----+\n",
      "|null                 |96006|\n",
      "|Managers             |21276|\n",
      "|HR staff             |559  |\n",
      "|Medicine staff       |8505 |\n",
      "|Accountants          |9769 |\n",
      "|Laborers             |54972|\n",
      "|Cleaning staff       |4641 |\n",
      "|Private service staff|2637 |\n",
      "|Drivers              |18521|\n",
      "|Sales staff          |31958|\n",
      "|Realty agents        |748  |\n",
      "|IT staff             |522  |\n",
      "|Security staff       |6695 |\n",
      "|Secretaries          |1301 |\n",
      "|Low-skill Laborers   |2085 |\n",
      "|Core staff           |27427|\n",
      "|Cooking staff        |5930 |\n",
      "|High skill tech staff|11327|\n",
      "|Waiters/barmen staff |1340 |\n",
      "+---------------------+-----+\n",
      "\n"
     ]
    }
   ],
   "source": [
    "df_clean.groupby('OCCUPATION_TYPE').count().show(30,False)"
   ]
  },
  {
   "cell_type": "code",
   "execution_count": 26,
   "metadata": {},
   "outputs": [],
   "source": [
    "df_clean = df_clean.filter(df_clean.OCCUPATION_TYPE.isNotNull())"
   ]
  },
  {
   "cell_type": "code",
   "execution_count": 27,
   "metadata": {},
   "outputs": [],
   "source": [
    "occ_dummy=quick_dummies(df_clean, 'OCCUPATION_TYPE', 'SK_ID_CURR')"
   ]
  },
  {
   "cell_type": "code",
   "execution_count": 28,
   "metadata": {},
   "outputs": [
    {
     "name": "stdout",
     "output_type": "stream",
     "text": [
      "+--------------------------+-----+\n",
      "|WEEKDAY_APPR_PROCESS_START|count|\n",
      "+--------------------------+-----+\n",
      "|SATURDAY                  |23636|\n",
      "|THURSDAY                  |34398|\n",
      "|FRIDAY                    |34134|\n",
      "|TUESDAY                   |36629|\n",
      "|WEDNESDAY                 |35241|\n",
      "|MONDAY                    |34643|\n",
      "|SUNDAY                    |11532|\n",
      "+--------------------------+-----+\n",
      "\n"
     ]
    }
   ],
   "source": [
    "df_clean.groupby('WEEKDAY_APPR_PROCESS_START').count().show(30,False)"
   ]
  },
  {
   "cell_type": "code",
   "execution_count": 29,
   "metadata": {},
   "outputs": [],
   "source": [
    "week_dummy=quick_dummies(df_clean, 'WEEKDAY_APPR_PROCESS_START', 'SK_ID_CURR')"
   ]
  },
  {
   "cell_type": "code",
   "execution_count": 30,
   "metadata": {},
   "outputs": [
    {
     "name": "stdout",
     "output_type": "stream",
     "text": [
      "+----------------------+-----+\n",
      "|ORGANIZATION_TYPE     |count|\n",
      "+----------------------+-----+\n",
      "|Services              |1448 |\n",
      "|Trade: type 5         |46   |\n",
      "|Industry: type 13     |56   |\n",
      "|Telecom               |523  |\n",
      "|Bank                  |2252 |\n",
      "|Industry: type 5      |487  |\n",
      "|Electricity           |831  |\n",
      "|Transport: type 2     |1911 |\n",
      "|Housing               |2525 |\n",
      "|Insurance             |532  |\n",
      "|Security              |2996 |\n",
      "|Postal                |2073 |\n",
      "|School                |7420 |\n",
      "|Government            |8281 |\n",
      "|Security Ministries   |1484 |\n",
      "|Military              |2074 |\n",
      "|Realtor               |350  |\n",
      "|Industry: type 10     |94   |\n",
      "|Self-employed         |34724|\n",
      "|Culture               |294  |\n",
      "|Religion              |64   |\n",
      "|Industry: type 3      |2831 |\n",
      "|Trade: type 3         |3234 |\n",
      "|Industry: type 9      |2823 |\n",
      "|Advertising           |360  |\n",
      "|Trade: type 2         |1786 |\n",
      "|Other                 |11453|\n",
      "|Police                |2075 |\n",
      "|Industry: type 12     |315  |\n",
      "|Trade: type 7         |7370 |\n",
      "|Construction          |6045 |\n",
      "|Industry: type 2      |390  |\n",
      "|Trade: type 6         |531  |\n",
      "|Industry: type 7      |1086 |\n",
      "|Hotel                 |716  |\n",
      "|Industry: type 11     |2177 |\n",
      "|Industry: type 8      |22   |\n",
      "|Agriculture           |2077 |\n",
      "|Business Entity Type 3|53422|\n",
      "|Medicine              |10076|\n",
      "|Restaurant            |1638 |\n",
      "|Industry: type 6      |84   |\n",
      "|Emergency             |458  |\n",
      "|Industry: type 4      |700  |\n",
      "|Business Entity Type 2|8250 |\n",
      "|Business Entity Type 1|4659 |\n",
      "|Cleaning              |187  |\n",
      "|Transport: type 3     |1166 |\n",
      "|Mobile                |291  |\n",
      "|Transport: type 1     |150  |\n",
      "|Trade: type 4         |57   |\n",
      "|Kindergarten          |6357 |\n",
      "|Legal Services        |284  |\n",
      "|Industry: type 1      |886  |\n",
      "|Trade: type 1         |329  |\n",
      "|Transport: type 4     |4446 |\n",
      "|University            |1017 |\n",
      "+----------------------+-----+\n",
      "\n"
     ]
    }
   ],
   "source": [
    "df_clean.groupby('ORGANIZATION_TYPE').count().show(100, False)"
   ]
  },
  {
   "cell_type": "code",
   "execution_count": 31,
   "metadata": {},
   "outputs": [],
   "source": [
    "org_dummy=quick_dummies(df_clean, 'ORGANIZATION_TYPE', 'SK_ID_CURR')"
   ]
  },
  {
   "cell_type": "code",
   "execution_count": 32,
   "metadata": {},
   "outputs": [
    {
     "data": {
      "text/plain": [
       "DataFrame[SK_ID_CURR: int, Services: int, Trade: type 5: int, Industry: type 13: int, Telecom: int, Bank: int, Industry: type 5: int, Electricity: int, Transport: type 2: int, Housing: int, Insurance: int, Security: int, Postal: int, School: int, Government: int, Security Ministries: int, Military: int, Realtor: int, Industry: type 10: int, Self-employed: int, Culture: int, Religion: int, Industry: type 3: int, Trade: type 3: int, Industry: type 9: int, Advertising: int, Trade: type 2: int, Other: int, Police: int, Industry: type 12: int, Trade: type 7: int, Construction: int, Industry: type 2: int, Trade: type 6: int, Industry: type 7: int, Hotel: int, Industry: type 11: int, Industry: type 8: int, Agriculture: int, Business Entity Type 3: int, Medicine: int, Restaurant: int, Industry: type 6: int, Emergency: int, Industry: type 4: int, Business Entity Type 2: int, Business Entity Type 1: int, Cleaning: int, Transport: type 3: int, Mobile: int, Transport: type 1: int, Trade: type 4: int, Kindergarten: int, Legal Services: int, Industry: type 1: int, Trade: type 1: int, Transport: type 4: int, University: int]"
      ]
     },
     "execution_count": 32,
     "metadata": {},
     "output_type": "execute_result"
    }
   ],
   "source": [
    "org_dummy"
   ]
  },
  {
   "cell_type": "code",
   "execution_count": 33,
   "metadata": {},
   "outputs": [
    {
     "name": "stdout",
     "output_type": "stream",
     "text": [
      "+--------------------+------+\n",
      "|  FONDKAPREMONT_MODE| count|\n",
      "+--------------------+------+\n",
      "|    reg oper account| 50328|\n",
      "|                null|143868|\n",
      "|       not specified|  3959|\n",
      "|reg oper spec acc...|  8260|\n",
      "|    org spec account|  3798|\n",
      "+--------------------+------+\n",
      "\n"
     ]
    }
   ],
   "source": [
    "df_clean.groupby('FONDKAPREMONT_MODE').count().show()"
   ]
  },
  {
   "cell_type": "code",
   "execution_count": 34,
   "metadata": {},
   "outputs": [],
   "source": [
    "df_clean = df_clean.drop('FONDKAPREMONT_MODE')"
   ]
  },
  {
   "cell_type": "code",
   "execution_count": 35,
   "metadata": {},
   "outputs": [
    {
     "name": "stdout",
     "output_type": "stream",
     "text": [
      "+----------------+------+\n",
      "|  HOUSETYPE_MODE| count|\n",
      "+----------------+------+\n",
      "|            null|105512|\n",
      "|specific housing|  1124|\n",
      "|  block of flats|102743|\n",
      "|  terraced house|   834|\n",
      "+----------------+------+\n",
      "\n"
     ]
    }
   ],
   "source": [
    "df_clean.groupby('HOUSETYPE_MODE').count().show()"
   ]
  },
  {
   "cell_type": "code",
   "execution_count": 36,
   "metadata": {},
   "outputs": [],
   "source": [
    "df_clean = df_clean.drop('HOUSETYPE_MODE')"
   ]
  },
  {
   "cell_type": "code",
   "execution_count": 37,
   "metadata": {},
   "outputs": [
    {
     "name": "stdout",
     "output_type": "stream",
     "text": [
      "+------------------+------+\n",
      "|WALLSMATERIAL_MODE| count|\n",
      "+------------------+------+\n",
      "|      Stone, brick| 44395|\n",
      "|              null|106965|\n",
      "|        Monolithic|  1221|\n",
      "|             Mixed|  1618|\n",
      "|            Wooden|  3795|\n",
      "|            Others|  1130|\n",
      "|             Panel| 44867|\n",
      "|             Block|  6222|\n",
      "+------------------+------+\n",
      "\n"
     ]
    }
   ],
   "source": [
    "df_clean.groupby('WALLSMATERIAL_MODE').count().show()"
   ]
  },
  {
   "cell_type": "code",
   "execution_count": 38,
   "metadata": {},
   "outputs": [],
   "source": [
    "df_clean = df_clean.drop('WALLSMATERIAL_MODE')"
   ]
  },
  {
   "cell_type": "code",
   "execution_count": 39,
   "metadata": {},
   "outputs": [
    {
     "name": "stdout",
     "output_type": "stream",
     "text": [
      "+-------------------+------+\n",
      "|EMERGENCYSTATE_MODE| count|\n",
      "+-------------------+------+\n",
      "|               null| 99709|\n",
      "|                 No|108857|\n",
      "|                Yes|  1647|\n",
      "+-------------------+------+\n",
      "\n"
     ]
    }
   ],
   "source": [
    "df_clean.groupby('EMERGENCYSTATE_MODE').count().show()"
   ]
  },
  {
   "cell_type": "code",
   "execution_count": 40,
   "metadata": {},
   "outputs": [],
   "source": [
    "df_clean = df_clean.drop('EMERGENCYSTATE_MODE')"
   ]
  },
  {
   "cell_type": "code",
   "execution_count": 41,
   "metadata": {},
   "outputs": [
    {
     "data": {
      "text/plain": [
       "210213"
      ]
     },
     "execution_count": 41,
     "metadata": {},
     "output_type": "execute_result"
    }
   ],
   "source": [
    "df_clean.count()"
   ]
  },
  {
   "cell_type": "code",
   "execution_count": 42,
   "metadata": {},
   "outputs": [
    {
     "data": {
      "text/plain": [
       "['NAME_CONTRACT_TYPE',\n",
       " 'CODE_GENDER',\n",
       " 'FLAG_OWN_CAR',\n",
       " 'FLAG_OWN_REALTY',\n",
       " 'NAME_TYPE_SUITE',\n",
       " 'NAME_INCOME_TYPE',\n",
       " 'NAME_EDUCATION_TYPE',\n",
       " 'NAME_FAMILY_STATUS',\n",
       " 'NAME_HOUSING_TYPE',\n",
       " 'OCCUPATION_TYPE',\n",
       " 'WEEKDAY_APPR_PROCESS_START',\n",
       " 'ORGANIZATION_TYPE']"
      ]
     },
     "execution_count": 42,
     "metadata": {},
     "output_type": "execute_result"
    }
   ],
   "source": [
    "strcolumnList = [item[0] for item in df_clean.dtypes if item[1].startswith('string')]\n",
    "strcolumnList"
   ]
  },
  {
   "cell_type": "code",
   "execution_count": 43,
   "metadata": {},
   "outputs": [],
   "source": [
    "dummy_df = df_clean.withColumn('CODE_GENDER_DUMMY', (fn.col('CODE_GENDER') == \"M\").cast('int')).\\\n",
    "            withColumn('CONTRACT_DUMMY_REV', (fn.col('NAME_CONTRACT_TYPE') == \"Revolving loans\").cast('int')).\\\n",
    "            withColumn('CAR_DUMMY', (fn.col('FLAG_OWN_CAR') == 'Y').cast('int')).\\\n",
    "            withColumn('REALTY_DUMMY', (fn.col('FLAG_OWN_REALTY') == 'Y').cast('int')).\\\n",
    "            drop('CODE_GENDER').\\\n",
    "            drop('NAME_CONTRACT_TYPE').\\\n",
    "            drop('FLAG_OWN_CAR').\\\n",
    "            drop('FLAG_OWN_REALTY')"
   ]
  },
  {
   "cell_type": "code",
   "execution_count": 44,
   "metadata": {},
   "outputs": [
    {
     "data": {
      "text/html": [
       "<div>\n",
       "<style scoped>\n",
       "    .dataframe tbody tr th:only-of-type {\n",
       "        vertical-align: middle;\n",
       "    }\n",
       "\n",
       "    .dataframe tbody tr th {\n",
       "        vertical-align: top;\n",
       "    }\n",
       "\n",
       "    .dataframe thead th {\n",
       "        text-align: right;\n",
       "    }\n",
       "</style>\n",
       "<table border=\"1\" class=\"dataframe\">\n",
       "  <thead>\n",
       "    <tr style=\"text-align: right;\">\n",
       "      <th></th>\n",
       "      <th>SK_ID_CURR</th>\n",
       "      <th>TARGET</th>\n",
       "      <th>CNT_CHILDREN</th>\n",
       "      <th>AMT_INCOME_TOTAL</th>\n",
       "      <th>AMT_CREDIT</th>\n",
       "      <th>AMT_ANNUITY</th>\n",
       "      <th>AMT_GOODS_PRICE</th>\n",
       "      <th>NAME_TYPE_SUITE</th>\n",
       "      <th>NAME_INCOME_TYPE</th>\n",
       "      <th>NAME_EDUCATION_TYPE</th>\n",
       "      <th>...</th>\n",
       "      <th>AMT_REQ_CREDIT_BUREAU_HOUR</th>\n",
       "      <th>AMT_REQ_CREDIT_BUREAU_DAY</th>\n",
       "      <th>AMT_REQ_CREDIT_BUREAU_WEEK</th>\n",
       "      <th>AMT_REQ_CREDIT_BUREAU_MON</th>\n",
       "      <th>AMT_REQ_CREDIT_BUREAU_QRT</th>\n",
       "      <th>AMT_REQ_CREDIT_BUREAU_YEAR</th>\n",
       "      <th>CODE_GENDER_DUMMY</th>\n",
       "      <th>CONTRACT_DUMMY_REV</th>\n",
       "      <th>CAR_DUMMY</th>\n",
       "      <th>REALTY_DUMMY</th>\n",
       "    </tr>\n",
       "  </thead>\n",
       "  <tbody>\n",
       "    <tr>\n",
       "      <th>0</th>\n",
       "      <td>100002</td>\n",
       "      <td>1</td>\n",
       "      <td>0</td>\n",
       "      <td>202500.0</td>\n",
       "      <td>406597.5</td>\n",
       "      <td>24700.5</td>\n",
       "      <td>351000.0</td>\n",
       "      <td>Unaccompanied</td>\n",
       "      <td>Working</td>\n",
       "      <td>Secondary / secondary special</td>\n",
       "      <td>...</td>\n",
       "      <td>0.0</td>\n",
       "      <td>0.0</td>\n",
       "      <td>0.0</td>\n",
       "      <td>0.0</td>\n",
       "      <td>0.0</td>\n",
       "      <td>1.0</td>\n",
       "      <td>1</td>\n",
       "      <td>0</td>\n",
       "      <td>0</td>\n",
       "      <td>1</td>\n",
       "    </tr>\n",
       "    <tr>\n",
       "      <th>1</th>\n",
       "      <td>100003</td>\n",
       "      <td>0</td>\n",
       "      <td>0</td>\n",
       "      <td>270000.0</td>\n",
       "      <td>1293502.5</td>\n",
       "      <td>35698.5</td>\n",
       "      <td>1129500.0</td>\n",
       "      <td>Family</td>\n",
       "      <td>State servant</td>\n",
       "      <td>Higher education</td>\n",
       "      <td>...</td>\n",
       "      <td>0.0</td>\n",
       "      <td>0.0</td>\n",
       "      <td>0.0</td>\n",
       "      <td>0.0</td>\n",
       "      <td>0.0</td>\n",
       "      <td>0.0</td>\n",
       "      <td>0</td>\n",
       "      <td>0</td>\n",
       "      <td>0</td>\n",
       "      <td>0</td>\n",
       "    </tr>\n",
       "    <tr>\n",
       "      <th>2</th>\n",
       "      <td>100004</td>\n",
       "      <td>0</td>\n",
       "      <td>0</td>\n",
       "      <td>67500.0</td>\n",
       "      <td>135000.0</td>\n",
       "      <td>6750.0</td>\n",
       "      <td>135000.0</td>\n",
       "      <td>Unaccompanied</td>\n",
       "      <td>Working</td>\n",
       "      <td>Secondary / secondary special</td>\n",
       "      <td>...</td>\n",
       "      <td>0.0</td>\n",
       "      <td>0.0</td>\n",
       "      <td>0.0</td>\n",
       "      <td>0.0</td>\n",
       "      <td>0.0</td>\n",
       "      <td>0.0</td>\n",
       "      <td>1</td>\n",
       "      <td>1</td>\n",
       "      <td>1</td>\n",
       "      <td>1</td>\n",
       "    </tr>\n",
       "    <tr>\n",
       "      <th>3</th>\n",
       "      <td>100006</td>\n",
       "      <td>0</td>\n",
       "      <td>0</td>\n",
       "      <td>135000.0</td>\n",
       "      <td>312682.5</td>\n",
       "      <td>29686.5</td>\n",
       "      <td>297000.0</td>\n",
       "      <td>Unaccompanied</td>\n",
       "      <td>Working</td>\n",
       "      <td>Secondary / secondary special</td>\n",
       "      <td>...</td>\n",
       "      <td>NaN</td>\n",
       "      <td>NaN</td>\n",
       "      <td>NaN</td>\n",
       "      <td>NaN</td>\n",
       "      <td>NaN</td>\n",
       "      <td>NaN</td>\n",
       "      <td>0</td>\n",
       "      <td>0</td>\n",
       "      <td>0</td>\n",
       "      <td>1</td>\n",
       "    </tr>\n",
       "    <tr>\n",
       "      <th>4</th>\n",
       "      <td>100007</td>\n",
       "      <td>0</td>\n",
       "      <td>0</td>\n",
       "      <td>121500.0</td>\n",
       "      <td>513000.0</td>\n",
       "      <td>21865.5</td>\n",
       "      <td>513000.0</td>\n",
       "      <td>Unaccompanied</td>\n",
       "      <td>Working</td>\n",
       "      <td>Secondary / secondary special</td>\n",
       "      <td>...</td>\n",
       "      <td>0.0</td>\n",
       "      <td>0.0</td>\n",
       "      <td>0.0</td>\n",
       "      <td>0.0</td>\n",
       "      <td>0.0</td>\n",
       "      <td>0.0</td>\n",
       "      <td>1</td>\n",
       "      <td>0</td>\n",
       "      <td>0</td>\n",
       "      <td>1</td>\n",
       "    </tr>\n",
       "    <tr>\n",
       "      <th>5</th>\n",
       "      <td>100008</td>\n",
       "      <td>0</td>\n",
       "      <td>0</td>\n",
       "      <td>99000.0</td>\n",
       "      <td>490495.5</td>\n",
       "      <td>27517.5</td>\n",
       "      <td>454500.0</td>\n",
       "      <td>Spouse, partner</td>\n",
       "      <td>State servant</td>\n",
       "      <td>Secondary / secondary special</td>\n",
       "      <td>...</td>\n",
       "      <td>0.0</td>\n",
       "      <td>0.0</td>\n",
       "      <td>0.0</td>\n",
       "      <td>0.0</td>\n",
       "      <td>1.0</td>\n",
       "      <td>1.0</td>\n",
       "      <td>1</td>\n",
       "      <td>0</td>\n",
       "      <td>0</td>\n",
       "      <td>1</td>\n",
       "    </tr>\n",
       "    <tr>\n",
       "      <th>6</th>\n",
       "      <td>100009</td>\n",
       "      <td>0</td>\n",
       "      <td>1</td>\n",
       "      <td>171000.0</td>\n",
       "      <td>1560726.0</td>\n",
       "      <td>41301.0</td>\n",
       "      <td>1395000.0</td>\n",
       "      <td>Unaccompanied</td>\n",
       "      <td>Commercial associate</td>\n",
       "      <td>Higher education</td>\n",
       "      <td>...</td>\n",
       "      <td>0.0</td>\n",
       "      <td>0.0</td>\n",
       "      <td>0.0</td>\n",
       "      <td>1.0</td>\n",
       "      <td>1.0</td>\n",
       "      <td>2.0</td>\n",
       "      <td>0</td>\n",
       "      <td>0</td>\n",
       "      <td>1</td>\n",
       "      <td>1</td>\n",
       "    </tr>\n",
       "    <tr>\n",
       "      <th>7</th>\n",
       "      <td>100010</td>\n",
       "      <td>0</td>\n",
       "      <td>0</td>\n",
       "      <td>360000.0</td>\n",
       "      <td>1530000.0</td>\n",
       "      <td>42075.0</td>\n",
       "      <td>1530000.0</td>\n",
       "      <td>Unaccompanied</td>\n",
       "      <td>State servant</td>\n",
       "      <td>Higher education</td>\n",
       "      <td>...</td>\n",
       "      <td>0.0</td>\n",
       "      <td>0.0</td>\n",
       "      <td>0.0</td>\n",
       "      <td>0.0</td>\n",
       "      <td>0.0</td>\n",
       "      <td>0.0</td>\n",
       "      <td>1</td>\n",
       "      <td>0</td>\n",
       "      <td>1</td>\n",
       "      <td>1</td>\n",
       "    </tr>\n",
       "    <tr>\n",
       "      <th>8</th>\n",
       "      <td>100012</td>\n",
       "      <td>0</td>\n",
       "      <td>0</td>\n",
       "      <td>135000.0</td>\n",
       "      <td>405000.0</td>\n",
       "      <td>20250.0</td>\n",
       "      <td>405000.0</td>\n",
       "      <td>Unaccompanied</td>\n",
       "      <td>Working</td>\n",
       "      <td>Secondary / secondary special</td>\n",
       "      <td>...</td>\n",
       "      <td>NaN</td>\n",
       "      <td>NaN</td>\n",
       "      <td>NaN</td>\n",
       "      <td>NaN</td>\n",
       "      <td>NaN</td>\n",
       "      <td>NaN</td>\n",
       "      <td>1</td>\n",
       "      <td>1</td>\n",
       "      <td>0</td>\n",
       "      <td>1</td>\n",
       "    </tr>\n",
       "    <tr>\n",
       "      <th>9</th>\n",
       "      <td>100014</td>\n",
       "      <td>0</td>\n",
       "      <td>1</td>\n",
       "      <td>112500.0</td>\n",
       "      <td>652500.0</td>\n",
       "      <td>21177.0</td>\n",
       "      <td>652500.0</td>\n",
       "      <td>Unaccompanied</td>\n",
       "      <td>Working</td>\n",
       "      <td>Higher education</td>\n",
       "      <td>...</td>\n",
       "      <td>0.0</td>\n",
       "      <td>0.0</td>\n",
       "      <td>0.0</td>\n",
       "      <td>1.0</td>\n",
       "      <td>0.0</td>\n",
       "      <td>0.0</td>\n",
       "      <td>0</td>\n",
       "      <td>0</td>\n",
       "      <td>0</td>\n",
       "      <td>1</td>\n",
       "    </tr>\n",
       "  </tbody>\n",
       "</table>\n",
       "<p>10 rows × 118 columns</p>\n",
       "</div>"
      ],
      "text/plain": [
       "   SK_ID_CURR  TARGET  CNT_CHILDREN  AMT_INCOME_TOTAL  AMT_CREDIT  \\\n",
       "0      100002       1             0          202500.0    406597.5   \n",
       "1      100003       0             0          270000.0   1293502.5   \n",
       "2      100004       0             0           67500.0    135000.0   \n",
       "3      100006       0             0          135000.0    312682.5   \n",
       "4      100007       0             0          121500.0    513000.0   \n",
       "5      100008       0             0           99000.0    490495.5   \n",
       "6      100009       0             1          171000.0   1560726.0   \n",
       "7      100010       0             0          360000.0   1530000.0   \n",
       "8      100012       0             0          135000.0    405000.0   \n",
       "9      100014       0             1          112500.0    652500.0   \n",
       "\n",
       "   AMT_ANNUITY  AMT_GOODS_PRICE  NAME_TYPE_SUITE      NAME_INCOME_TYPE  \\\n",
       "0      24700.5         351000.0    Unaccompanied               Working   \n",
       "1      35698.5        1129500.0           Family         State servant   \n",
       "2       6750.0         135000.0    Unaccompanied               Working   \n",
       "3      29686.5         297000.0    Unaccompanied               Working   \n",
       "4      21865.5         513000.0    Unaccompanied               Working   \n",
       "5      27517.5         454500.0  Spouse, partner         State servant   \n",
       "6      41301.0        1395000.0    Unaccompanied  Commercial associate   \n",
       "7      42075.0        1530000.0    Unaccompanied         State servant   \n",
       "8      20250.0         405000.0    Unaccompanied               Working   \n",
       "9      21177.0         652500.0    Unaccompanied               Working   \n",
       "\n",
       "             NAME_EDUCATION_TYPE      ...      AMT_REQ_CREDIT_BUREAU_HOUR  \\\n",
       "0  Secondary / secondary special      ...                             0.0   \n",
       "1               Higher education      ...                             0.0   \n",
       "2  Secondary / secondary special      ...                             0.0   \n",
       "3  Secondary / secondary special      ...                             NaN   \n",
       "4  Secondary / secondary special      ...                             0.0   \n",
       "5  Secondary / secondary special      ...                             0.0   \n",
       "6               Higher education      ...                             0.0   \n",
       "7               Higher education      ...                             0.0   \n",
       "8  Secondary / secondary special      ...                             NaN   \n",
       "9               Higher education      ...                             0.0   \n",
       "\n",
       "  AMT_REQ_CREDIT_BUREAU_DAY  AMT_REQ_CREDIT_BUREAU_WEEK  \\\n",
       "0                       0.0                         0.0   \n",
       "1                       0.0                         0.0   \n",
       "2                       0.0                         0.0   \n",
       "3                       NaN                         NaN   \n",
       "4                       0.0                         0.0   \n",
       "5                       0.0                         0.0   \n",
       "6                       0.0                         0.0   \n",
       "7                       0.0                         0.0   \n",
       "8                       NaN                         NaN   \n",
       "9                       0.0                         0.0   \n",
       "\n",
       "   AMT_REQ_CREDIT_BUREAU_MON  AMT_REQ_CREDIT_BUREAU_QRT  \\\n",
       "0                        0.0                        0.0   \n",
       "1                        0.0                        0.0   \n",
       "2                        0.0                        0.0   \n",
       "3                        NaN                        NaN   \n",
       "4                        0.0                        0.0   \n",
       "5                        0.0                        1.0   \n",
       "6                        1.0                        1.0   \n",
       "7                        0.0                        0.0   \n",
       "8                        NaN                        NaN   \n",
       "9                        1.0                        0.0   \n",
       "\n",
       "   AMT_REQ_CREDIT_BUREAU_YEAR  CODE_GENDER_DUMMY  CONTRACT_DUMMY_REV  \\\n",
       "0                         1.0                  1                   0   \n",
       "1                         0.0                  0                   0   \n",
       "2                         0.0                  1                   1   \n",
       "3                         NaN                  0                   0   \n",
       "4                         0.0                  1                   0   \n",
       "5                         1.0                  1                   0   \n",
       "6                         2.0                  0                   0   \n",
       "7                         0.0                  1                   0   \n",
       "8                         NaN                  1                   1   \n",
       "9                         0.0                  0                   0   \n",
       "\n",
       "   CAR_DUMMY  REALTY_DUMMY  \n",
       "0          0             1  \n",
       "1          0             0  \n",
       "2          1             1  \n",
       "3          0             1  \n",
       "4          0             1  \n",
       "5          0             1  \n",
       "6          1             1  \n",
       "7          1             1  \n",
       "8          0             1  \n",
       "9          0             1  \n",
       "\n",
       "[10 rows x 118 columns]"
      ]
     },
     "execution_count": 44,
     "metadata": {},
     "output_type": "execute_result"
    }
   ],
   "source": [
    "dummy_df.limit(10).toPandas()"
   ]
  },
  {
   "cell_type": "markdown",
   "metadata": {},
   "source": [
    "JOIN THE TABLES CREATED ABOVE AND THEN DROP COLUMNS YOU CREATED DUMMIES FOR"
   ]
  },
  {
   "cell_type": "code",
   "execution_count": 45,
   "metadata": {},
   "outputs": [],
   "source": [
    "#df_list = [suite_dummy,income_dummy,edu_dummy,fam_dummy,house_dummy,occ_dummy,week_dummy,org_dummy]\n",
    "\n",
    "#for df in df_list:\n",
    "    \n",
    "    #final_df = df_clean.join(df, df_clean.SK_ID_CURR == df.SK_ID_CURR,how='left')"
   ]
  },
  {
   "cell_type": "code",
   "execution_count": 46,
   "metadata": {},
   "outputs": [],
   "source": [
    "df_join_1 = dummy_df.join(suite_dummy, \"SK_ID_CURR\",how='left')"
   ]
  },
  {
   "cell_type": "code",
   "execution_count": 47,
   "metadata": {},
   "outputs": [
    {
     "data": {
      "text/plain": [
       "210213"
      ]
     },
     "execution_count": 47,
     "metadata": {},
     "output_type": "execute_result"
    }
   ],
   "source": [
    "df_join_1.count()"
   ]
  },
  {
   "cell_type": "code",
   "execution_count": 48,
   "metadata": {},
   "outputs": [
    {
     "name": "stdout",
     "output_type": "stream",
     "text": [
      "root\n",
      " |-- SK_ID_CURR: integer (nullable = true)\n",
      " |-- TARGET: integer (nullable = true)\n",
      " |-- CNT_CHILDREN: integer (nullable = true)\n",
      " |-- AMT_INCOME_TOTAL: double (nullable = true)\n",
      " |-- AMT_CREDIT: double (nullable = true)\n",
      " |-- AMT_ANNUITY: double (nullable = true)\n",
      " |-- AMT_GOODS_PRICE: double (nullable = true)\n",
      " |-- NAME_TYPE_SUITE: string (nullable = true)\n",
      " |-- NAME_INCOME_TYPE: string (nullable = true)\n",
      " |-- NAME_EDUCATION_TYPE: string (nullable = true)\n",
      " |-- NAME_FAMILY_STATUS: string (nullable = true)\n",
      " |-- NAME_HOUSING_TYPE: string (nullable = true)\n",
      " |-- REGION_POPULATION_RELATIVE: double (nullable = true)\n",
      " |-- DAYS_BIRTH: integer (nullable = true)\n",
      " |-- DAYS_EMPLOYED: integer (nullable = true)\n",
      " |-- DAYS_REGISTRATION: double (nullable = true)\n",
      " |-- DAYS_ID_PUBLISH: integer (nullable = true)\n",
      " |-- OWN_CAR_AGE: double (nullable = true)\n",
      " |-- FLAG_MOBIL: integer (nullable = true)\n",
      " |-- FLAG_EMP_PHONE: integer (nullable = true)\n",
      " |-- FLAG_WORK_PHONE: integer (nullable = true)\n",
      " |-- FLAG_CONT_MOBILE: integer (nullable = true)\n",
      " |-- FLAG_PHONE: integer (nullable = true)\n",
      " |-- FLAG_EMAIL: integer (nullable = true)\n",
      " |-- OCCUPATION_TYPE: string (nullable = true)\n",
      " |-- CNT_FAM_MEMBERS: double (nullable = true)\n",
      " |-- REGION_RATING_CLIENT: integer (nullable = true)\n",
      " |-- REGION_RATING_CLIENT_W_CITY: integer (nullable = true)\n",
      " |-- WEEKDAY_APPR_PROCESS_START: string (nullable = true)\n",
      " |-- HOUR_APPR_PROCESS_START: integer (nullable = true)\n",
      " |-- REG_REGION_NOT_LIVE_REGION: integer (nullable = true)\n",
      " |-- REG_REGION_NOT_WORK_REGION: integer (nullable = true)\n",
      " |-- LIVE_REGION_NOT_WORK_REGION: integer (nullable = true)\n",
      " |-- REG_CITY_NOT_LIVE_CITY: integer (nullable = true)\n",
      " |-- REG_CITY_NOT_WORK_CITY: integer (nullable = true)\n",
      " |-- LIVE_CITY_NOT_WORK_CITY: integer (nullable = true)\n",
      " |-- ORGANIZATION_TYPE: string (nullable = true)\n",
      " |-- EXT_SOURCE_1: double (nullable = true)\n",
      " |-- EXT_SOURCE_2: double (nullable = true)\n",
      " |-- EXT_SOURCE_3: double (nullable = true)\n",
      " |-- APARTMENTS_AVG: double (nullable = true)\n",
      " |-- BASEMENTAREA_AVG: double (nullable = true)\n",
      " |-- YEARS_BEGINEXPLUATATION_AVG: double (nullable = true)\n",
      " |-- YEARS_BUILD_AVG: double (nullable = true)\n",
      " |-- COMMONAREA_AVG: double (nullable = true)\n",
      " |-- ELEVATORS_AVG: double (nullable = true)\n",
      " |-- ENTRANCES_AVG: double (nullable = true)\n",
      " |-- FLOORSMAX_AVG: double (nullable = true)\n",
      " |-- FLOORSMIN_AVG: double (nullable = true)\n",
      " |-- LANDAREA_AVG: double (nullable = true)\n",
      " |-- LIVINGAPARTMENTS_AVG: double (nullable = true)\n",
      " |-- LIVINGAREA_AVG: double (nullable = true)\n",
      " |-- NONLIVINGAPARTMENTS_AVG: double (nullable = true)\n",
      " |-- NONLIVINGAREA_AVG: double (nullable = true)\n",
      " |-- APARTMENTS_MODE: double (nullable = true)\n",
      " |-- BASEMENTAREA_MODE: double (nullable = true)\n",
      " |-- YEARS_BEGINEXPLUATATION_MODE: double (nullable = true)\n",
      " |-- YEARS_BUILD_MODE: double (nullable = true)\n",
      " |-- COMMONAREA_MODE: double (nullable = true)\n",
      " |-- ELEVATORS_MODE: double (nullable = true)\n",
      " |-- ENTRANCES_MODE: double (nullable = true)\n",
      " |-- FLOORSMAX_MODE: double (nullable = true)\n",
      " |-- FLOORSMIN_MODE: double (nullable = true)\n",
      " |-- LANDAREA_MODE: double (nullable = true)\n",
      " |-- LIVINGAPARTMENTS_MODE: double (nullable = true)\n",
      " |-- LIVINGAREA_MODE: double (nullable = true)\n",
      " |-- NONLIVINGAPARTMENTS_MODE: double (nullable = true)\n",
      " |-- NONLIVINGAREA_MODE: double (nullable = true)\n",
      " |-- APARTMENTS_MEDI: double (nullable = true)\n",
      " |-- BASEMENTAREA_MEDI: double (nullable = true)\n",
      " |-- YEARS_BEGINEXPLUATATION_MEDI: double (nullable = true)\n",
      " |-- YEARS_BUILD_MEDI: double (nullable = true)\n",
      " |-- COMMONAREA_MEDI: double (nullable = true)\n",
      " |-- ELEVATORS_MEDI: double (nullable = true)\n",
      " |-- ENTRANCES_MEDI: double (nullable = true)\n",
      " |-- FLOORSMAX_MEDI: double (nullable = true)\n",
      " |-- FLOORSMIN_MEDI: double (nullable = true)\n",
      " |-- LANDAREA_MEDI: double (nullable = true)\n",
      " |-- LIVINGAPARTMENTS_MEDI: double (nullable = true)\n",
      " |-- LIVINGAREA_MEDI: double (nullable = true)\n",
      " |-- NONLIVINGAPARTMENTS_MEDI: double (nullable = true)\n",
      " |-- NONLIVINGAREA_MEDI: double (nullable = true)\n",
      " |-- TOTALAREA_MODE: double (nullable = true)\n",
      " |-- OBS_30_CNT_SOCIAL_CIRCLE: double (nullable = true)\n",
      " |-- DEF_30_CNT_SOCIAL_CIRCLE: double (nullable = true)\n",
      " |-- OBS_60_CNT_SOCIAL_CIRCLE: double (nullable = true)\n",
      " |-- DEF_60_CNT_SOCIAL_CIRCLE: double (nullable = true)\n",
      " |-- DAYS_LAST_PHONE_CHANGE: double (nullable = true)\n",
      " |-- FLAG_DOCUMENT_2: integer (nullable = true)\n",
      " |-- FLAG_DOCUMENT_3: integer (nullable = true)\n",
      " |-- FLAG_DOCUMENT_4: integer (nullable = true)\n",
      " |-- FLAG_DOCUMENT_5: integer (nullable = true)\n",
      " |-- FLAG_DOCUMENT_6: integer (nullable = true)\n",
      " |-- FLAG_DOCUMENT_7: integer (nullable = true)\n",
      " |-- FLAG_DOCUMENT_8: integer (nullable = true)\n",
      " |-- FLAG_DOCUMENT_9: integer (nullable = true)\n",
      " |-- FLAG_DOCUMENT_10: integer (nullable = true)\n",
      " |-- FLAG_DOCUMENT_11: integer (nullable = true)\n",
      " |-- FLAG_DOCUMENT_12: integer (nullable = true)\n",
      " |-- FLAG_DOCUMENT_13: integer (nullable = true)\n",
      " |-- FLAG_DOCUMENT_14: integer (nullable = true)\n",
      " |-- FLAG_DOCUMENT_15: integer (nullable = true)\n",
      " |-- FLAG_DOCUMENT_16: integer (nullable = true)\n",
      " |-- FLAG_DOCUMENT_17: integer (nullable = true)\n",
      " |-- FLAG_DOCUMENT_18: integer (nullable = true)\n",
      " |-- FLAG_DOCUMENT_19: integer (nullable = true)\n",
      " |-- FLAG_DOCUMENT_20: integer (nullable = true)\n",
      " |-- FLAG_DOCUMENT_21: integer (nullable = true)\n",
      " |-- AMT_REQ_CREDIT_BUREAU_HOUR: double (nullable = true)\n",
      " |-- AMT_REQ_CREDIT_BUREAU_DAY: double (nullable = true)\n",
      " |-- AMT_REQ_CREDIT_BUREAU_WEEK: double (nullable = true)\n",
      " |-- AMT_REQ_CREDIT_BUREAU_MON: double (nullable = true)\n",
      " |-- AMT_REQ_CREDIT_BUREAU_QRT: double (nullable = true)\n",
      " |-- AMT_REQ_CREDIT_BUREAU_YEAR: double (nullable = true)\n",
      " |-- CODE_GENDER_DUMMY: integer (nullable = true)\n",
      " |-- CONTRACT_DUMMY_REV: integer (nullable = true)\n",
      " |-- CAR_DUMMY: integer (nullable = true)\n",
      " |-- REALTY_DUMMY: integer (nullable = true)\n",
      " |-- Spouse, partner: integer (nullable = true)\n",
      " |-- Other_A: integer (nullable = true)\n",
      " |-- Family: integer (nullable = true)\n",
      " |-- Group of people: integer (nullable = true)\n",
      " |-- Other_B: integer (nullable = true)\n",
      " |-- Unaccompanied: integer (nullable = true)\n",
      " |-- Children: integer (nullable = true)\n",
      "\n"
     ]
    }
   ],
   "source": [
    "df_join_1.printSchema()"
   ]
  },
  {
   "cell_type": "code",
   "execution_count": 49,
   "metadata": {},
   "outputs": [],
   "source": [
    "df_join_2 = df_join_1.join(income_dummy, \"SK_ID_CURR\",how='left')"
   ]
  },
  {
   "cell_type": "code",
   "execution_count": 50,
   "metadata": {},
   "outputs": [],
   "source": [
    "del df_join_1"
   ]
  },
  {
   "cell_type": "code",
   "execution_count": 51,
   "metadata": {},
   "outputs": [],
   "source": [
    "df_join_3 = df_join_2.join(edu_dummy, \"SK_ID_CURR\",how='left')"
   ]
  },
  {
   "cell_type": "code",
   "execution_count": 52,
   "metadata": {},
   "outputs": [],
   "source": [
    "del df_join_2"
   ]
  },
  {
   "cell_type": "code",
   "execution_count": 53,
   "metadata": {},
   "outputs": [],
   "source": [
    "df_join_4 = df_join_3.join(fam_dummy,  \"SK_ID_CURR\",how='left')"
   ]
  },
  {
   "cell_type": "code",
   "execution_count": 54,
   "metadata": {},
   "outputs": [],
   "source": [
    "del df_join_3"
   ]
  },
  {
   "cell_type": "code",
   "execution_count": 55,
   "metadata": {},
   "outputs": [],
   "source": [
    "df_join_5 = df_join_4.join(house_dummy,  \"SK_ID_CURR\",how='left')"
   ]
  },
  {
   "cell_type": "code",
   "execution_count": 56,
   "metadata": {},
   "outputs": [],
   "source": [
    "df_join_6 = df_join_5.join(occ_dummy,  \"SK_ID_CURR\",how='left')"
   ]
  },
  {
   "cell_type": "code",
   "execution_count": 57,
   "metadata": {},
   "outputs": [],
   "source": [
    "del df_join_5"
   ]
  },
  {
   "cell_type": "code",
   "execution_count": 58,
   "metadata": {},
   "outputs": [],
   "source": [
    "df_join_7 = df_join_6.join(week_dummy,  \"SK_ID_CURR\",how='left')"
   ]
  },
  {
   "cell_type": "code",
   "execution_count": 59,
   "metadata": {},
   "outputs": [],
   "source": [
    "del df_join_6"
   ]
  },
  {
   "cell_type": "code",
   "execution_count": 60,
   "metadata": {},
   "outputs": [],
   "source": [
    "df_join_8 = df_join_7.join(org_dummy,  \"SK_ID_CURR\",how='left')"
   ]
  },
  {
   "cell_type": "code",
   "execution_count": 61,
   "metadata": {},
   "outputs": [],
   "source": [
    "del df_join_7"
   ]
  },
  {
   "cell_type": "code",
   "execution_count": 62,
   "metadata": {},
   "outputs": [],
   "source": [
    "df_final = df_join_8.drop('NAME_TYPE_SUITE','NAME_INCOME_TYPE','NAME_FAMILY_STATUS','NAME_HOUSING_TYPE',\n",
    "                         'OCCUPATION_TYPE','WEEKDAY_APPR_PROCESS_START','ORGANIZATION_TYPE','NAME_EDUCATION_TYPE')"
   ]
  },
  {
   "cell_type": "code",
   "execution_count": 63,
   "metadata": {},
   "outputs": [],
   "source": [
    "del df_join_8"
   ]
  },
  {
   "cell_type": "code",
   "execution_count": 64,
   "metadata": {},
   "outputs": [
    {
     "name": "stdout",
     "output_type": "stream",
     "text": [
      "root\n",
      " |-- SK_ID_CURR: integer (nullable = true)\n",
      " |-- TARGET: integer (nullable = true)\n",
      " |-- CNT_CHILDREN: integer (nullable = true)\n",
      " |-- AMT_INCOME_TOTAL: double (nullable = true)\n",
      " |-- AMT_CREDIT: double (nullable = true)\n",
      " |-- AMT_ANNUITY: double (nullable = true)\n",
      " |-- AMT_GOODS_PRICE: double (nullable = true)\n",
      " |-- REGION_POPULATION_RELATIVE: double (nullable = true)\n",
      " |-- DAYS_BIRTH: integer (nullable = true)\n",
      " |-- DAYS_EMPLOYED: integer (nullable = true)\n",
      " |-- DAYS_REGISTRATION: double (nullable = true)\n",
      " |-- DAYS_ID_PUBLISH: integer (nullable = true)\n",
      " |-- OWN_CAR_AGE: double (nullable = true)\n",
      " |-- FLAG_MOBIL: integer (nullable = true)\n",
      " |-- FLAG_EMP_PHONE: integer (nullable = true)\n",
      " |-- FLAG_WORK_PHONE: integer (nullable = true)\n",
      " |-- FLAG_CONT_MOBILE: integer (nullable = true)\n",
      " |-- FLAG_PHONE: integer (nullable = true)\n",
      " |-- FLAG_EMAIL: integer (nullable = true)\n",
      " |-- CNT_FAM_MEMBERS: double (nullable = true)\n",
      " |-- REGION_RATING_CLIENT: integer (nullable = true)\n",
      " |-- REGION_RATING_CLIENT_W_CITY: integer (nullable = true)\n",
      " |-- HOUR_APPR_PROCESS_START: integer (nullable = true)\n",
      " |-- REG_REGION_NOT_LIVE_REGION: integer (nullable = true)\n",
      " |-- REG_REGION_NOT_WORK_REGION: integer (nullable = true)\n",
      " |-- LIVE_REGION_NOT_WORK_REGION: integer (nullable = true)\n",
      " |-- REG_CITY_NOT_LIVE_CITY: integer (nullable = true)\n",
      " |-- REG_CITY_NOT_WORK_CITY: integer (nullable = true)\n",
      " |-- LIVE_CITY_NOT_WORK_CITY: integer (nullable = true)\n",
      " |-- EXT_SOURCE_1: double (nullable = true)\n",
      " |-- EXT_SOURCE_2: double (nullable = true)\n",
      " |-- EXT_SOURCE_3: double (nullable = true)\n",
      " |-- APARTMENTS_AVG: double (nullable = true)\n",
      " |-- BASEMENTAREA_AVG: double (nullable = true)\n",
      " |-- YEARS_BEGINEXPLUATATION_AVG: double (nullable = true)\n",
      " |-- YEARS_BUILD_AVG: double (nullable = true)\n",
      " |-- COMMONAREA_AVG: double (nullable = true)\n",
      " |-- ELEVATORS_AVG: double (nullable = true)\n",
      " |-- ENTRANCES_AVG: double (nullable = true)\n",
      " |-- FLOORSMAX_AVG: double (nullable = true)\n",
      " |-- FLOORSMIN_AVG: double (nullable = true)\n",
      " |-- LANDAREA_AVG: double (nullable = true)\n",
      " |-- LIVINGAPARTMENTS_AVG: double (nullable = true)\n",
      " |-- LIVINGAREA_AVG: double (nullable = true)\n",
      " |-- NONLIVINGAPARTMENTS_AVG: double (nullable = true)\n",
      " |-- NONLIVINGAREA_AVG: double (nullable = true)\n",
      " |-- APARTMENTS_MODE: double (nullable = true)\n",
      " |-- BASEMENTAREA_MODE: double (nullable = true)\n",
      " |-- YEARS_BEGINEXPLUATATION_MODE: double (nullable = true)\n",
      " |-- YEARS_BUILD_MODE: double (nullable = true)\n",
      " |-- COMMONAREA_MODE: double (nullable = true)\n",
      " |-- ELEVATORS_MODE: double (nullable = true)\n",
      " |-- ENTRANCES_MODE: double (nullable = true)\n",
      " |-- FLOORSMAX_MODE: double (nullable = true)\n",
      " |-- FLOORSMIN_MODE: double (nullable = true)\n",
      " |-- LANDAREA_MODE: double (nullable = true)\n",
      " |-- LIVINGAPARTMENTS_MODE: double (nullable = true)\n",
      " |-- LIVINGAREA_MODE: double (nullable = true)\n",
      " |-- NONLIVINGAPARTMENTS_MODE: double (nullable = true)\n",
      " |-- NONLIVINGAREA_MODE: double (nullable = true)\n",
      " |-- APARTMENTS_MEDI: double (nullable = true)\n",
      " |-- BASEMENTAREA_MEDI: double (nullable = true)\n",
      " |-- YEARS_BEGINEXPLUATATION_MEDI: double (nullable = true)\n",
      " |-- YEARS_BUILD_MEDI: double (nullable = true)\n",
      " |-- COMMONAREA_MEDI: double (nullable = true)\n",
      " |-- ELEVATORS_MEDI: double (nullable = true)\n",
      " |-- ENTRANCES_MEDI: double (nullable = true)\n",
      " |-- FLOORSMAX_MEDI: double (nullable = true)\n",
      " |-- FLOORSMIN_MEDI: double (nullable = true)\n",
      " |-- LANDAREA_MEDI: double (nullable = true)\n",
      " |-- LIVINGAPARTMENTS_MEDI: double (nullable = true)\n",
      " |-- LIVINGAREA_MEDI: double (nullable = true)\n",
      " |-- NONLIVINGAPARTMENTS_MEDI: double (nullable = true)\n",
      " |-- NONLIVINGAREA_MEDI: double (nullable = true)\n",
      " |-- TOTALAREA_MODE: double (nullable = true)\n",
      " |-- OBS_30_CNT_SOCIAL_CIRCLE: double (nullable = true)\n",
      " |-- DEF_30_CNT_SOCIAL_CIRCLE: double (nullable = true)\n",
      " |-- OBS_60_CNT_SOCIAL_CIRCLE: double (nullable = true)\n",
      " |-- DEF_60_CNT_SOCIAL_CIRCLE: double (nullable = true)\n",
      " |-- DAYS_LAST_PHONE_CHANGE: double (nullable = true)\n",
      " |-- FLAG_DOCUMENT_2: integer (nullable = true)\n",
      " |-- FLAG_DOCUMENT_3: integer (nullable = true)\n",
      " |-- FLAG_DOCUMENT_4: integer (nullable = true)\n",
      " |-- FLAG_DOCUMENT_5: integer (nullable = true)\n",
      " |-- FLAG_DOCUMENT_6: integer (nullable = true)\n",
      " |-- FLAG_DOCUMENT_7: integer (nullable = true)\n",
      " |-- FLAG_DOCUMENT_8: integer (nullable = true)\n",
      " |-- FLAG_DOCUMENT_9: integer (nullable = true)\n",
      " |-- FLAG_DOCUMENT_10: integer (nullable = true)\n",
      " |-- FLAG_DOCUMENT_11: integer (nullable = true)\n",
      " |-- FLAG_DOCUMENT_12: integer (nullable = true)\n",
      " |-- FLAG_DOCUMENT_13: integer (nullable = true)\n",
      " |-- FLAG_DOCUMENT_14: integer (nullable = true)\n",
      " |-- FLAG_DOCUMENT_15: integer (nullable = true)\n",
      " |-- FLAG_DOCUMENT_16: integer (nullable = true)\n",
      " |-- FLAG_DOCUMENT_17: integer (nullable = true)\n",
      " |-- FLAG_DOCUMENT_18: integer (nullable = true)\n",
      " |-- FLAG_DOCUMENT_19: integer (nullable = true)\n",
      " |-- FLAG_DOCUMENT_20: integer (nullable = true)\n",
      " |-- FLAG_DOCUMENT_21: integer (nullable = true)\n",
      " |-- AMT_REQ_CREDIT_BUREAU_HOUR: double (nullable = true)\n",
      " |-- AMT_REQ_CREDIT_BUREAU_DAY: double (nullable = true)\n",
      " |-- AMT_REQ_CREDIT_BUREAU_WEEK: double (nullable = true)\n",
      " |-- AMT_REQ_CREDIT_BUREAU_MON: double (nullable = true)\n",
      " |-- AMT_REQ_CREDIT_BUREAU_QRT: double (nullable = true)\n",
      " |-- AMT_REQ_CREDIT_BUREAU_YEAR: double (nullable = true)\n",
      " |-- CODE_GENDER_DUMMY: integer (nullable = true)\n",
      " |-- CONTRACT_DUMMY_REV: integer (nullable = true)\n",
      " |-- CAR_DUMMY: integer (nullable = true)\n",
      " |-- REALTY_DUMMY: integer (nullable = true)\n",
      " |-- Spouse, partner: integer (nullable = true)\n",
      " |-- Other_A: integer (nullable = true)\n",
      " |-- Family: integer (nullable = true)\n",
      " |-- Group of people: integer (nullable = true)\n",
      " |-- Other_B: integer (nullable = true)\n",
      " |-- Unaccompanied: integer (nullable = true)\n",
      " |-- Children: integer (nullable = true)\n",
      " |-- Student: integer (nullable = true)\n",
      " |-- Commercial associate: integer (nullable = true)\n",
      " |-- Businessman: integer (nullable = true)\n",
      " |-- Maternity leave: integer (nullable = true)\n",
      " |-- State servant: integer (nullable = true)\n",
      " |-- Working: integer (nullable = true)\n",
      " |-- Pensioner: integer (nullable = true)\n",
      " |-- Unemployed: integer (nullable = true)\n",
      " |-- Academic degree: integer (nullable = true)\n",
      " |-- Incomplete higher: integer (nullable = true)\n",
      " |-- Secondary / secondary special: integer (nullable = true)\n",
      " |-- Lower secondary: integer (nullable = true)\n",
      " |-- Higher education: integer (nullable = true)\n",
      " |-- Separated: integer (nullable = true)\n",
      " |-- Married: integer (nullable = true)\n",
      " |-- Single / not married: integer (nullable = true)\n",
      " |-- Widow: integer (nullable = true)\n",
      " |-- Civil marriage: integer (nullable = true)\n",
      " |-- House / apartment: integer (nullable = true)\n",
      " |-- Municipal apartment: integer (nullable = true)\n",
      " |-- Co-op apartment: integer (nullable = true)\n",
      " |-- Rented apartment: integer (nullable = true)\n",
      " |-- Office apartment: integer (nullable = true)\n",
      " |-- With parents: integer (nullable = true)\n",
      " |-- Managers: integer (nullable = true)\n",
      " |-- HR staff: integer (nullable = true)\n",
      " |-- Medicine staff: integer (nullable = true)\n",
      " |-- Accountants: integer (nullable = true)\n",
      " |-- Laborers: integer (nullable = true)\n",
      " |-- Cleaning staff: integer (nullable = true)\n",
      " |-- Private service staff: integer (nullable = true)\n",
      " |-- Drivers: integer (nullable = true)\n",
      " |-- Sales staff: integer (nullable = true)\n",
      " |-- Realty agents: integer (nullable = true)\n",
      " |-- IT staff: integer (nullable = true)\n",
      " |-- Security staff: integer (nullable = true)\n",
      " |-- Secretaries: integer (nullable = true)\n",
      " |-- Low-skill Laborers: integer (nullable = true)\n",
      " |-- Core staff: integer (nullable = true)\n",
      " |-- Cooking staff: integer (nullable = true)\n",
      " |-- High skill tech staff: integer (nullable = true)\n",
      " |-- Waiters/barmen staff: integer (nullable = true)\n",
      " |-- SATURDAY: integer (nullable = true)\n",
      " |-- THURSDAY: integer (nullable = true)\n",
      " |-- FRIDAY: integer (nullable = true)\n",
      " |-- TUESDAY: integer (nullable = true)\n",
      " |-- WEDNESDAY: integer (nullable = true)\n",
      " |-- MONDAY: integer (nullable = true)\n",
      " |-- SUNDAY: integer (nullable = true)\n",
      " |-- Services: integer (nullable = true)\n",
      " |-- Trade: type 5: integer (nullable = true)\n",
      " |-- Industry: type 13: integer (nullable = true)\n",
      " |-- Telecom: integer (nullable = true)\n",
      " |-- Bank: integer (nullable = true)\n",
      " |-- Industry: type 5: integer (nullable = true)\n",
      " |-- Electricity: integer (nullable = true)\n",
      " |-- Transport: type 2: integer (nullable = true)\n",
      " |-- Housing: integer (nullable = true)\n",
      " |-- Insurance: integer (nullable = true)\n",
      " |-- Security: integer (nullable = true)\n",
      " |-- Postal: integer (nullable = true)\n",
      " |-- School: integer (nullable = true)\n",
      " |-- Government: integer (nullable = true)\n",
      " |-- Security Ministries: integer (nullable = true)\n",
      " |-- Military: integer (nullable = true)\n",
      " |-- Realtor: integer (nullable = true)\n",
      " |-- Industry: type 10: integer (nullable = true)\n",
      " |-- Self-employed: integer (nullable = true)\n",
      " |-- Culture: integer (nullable = true)\n",
      " |-- Religion: integer (nullable = true)\n",
      " |-- Industry: type 3: integer (nullable = true)\n",
      " |-- Trade: type 3: integer (nullable = true)\n",
      " |-- Industry: type 9: integer (nullable = true)\n",
      " |-- Advertising: integer (nullable = true)\n",
      " |-- Trade: type 2: integer (nullable = true)\n",
      " |-- Other: integer (nullable = true)\n",
      " |-- Police: integer (nullable = true)\n",
      " |-- Industry: type 12: integer (nullable = true)\n",
      " |-- Trade: type 7: integer (nullable = true)\n",
      " |-- Construction: integer (nullable = true)\n",
      " |-- Industry: type 2: integer (nullable = true)\n",
      " |-- Trade: type 6: integer (nullable = true)\n",
      " |-- Industry: type 7: integer (nullable = true)\n",
      " |-- Hotel: integer (nullable = true)\n",
      " |-- Industry: type 11: integer (nullable = true)\n",
      " |-- Industry: type 8: integer (nullable = true)\n",
      " |-- Agriculture: integer (nullable = true)\n",
      " |-- Business Entity Type 3: integer (nullable = true)\n",
      " |-- Medicine: integer (nullable = true)\n",
      " |-- Restaurant: integer (nullable = true)\n",
      " |-- Industry: type 6: integer (nullable = true)\n",
      " |-- Emergency: integer (nullable = true)\n",
      " |-- Industry: type 4: integer (nullable = true)\n",
      " |-- Business Entity Type 2: integer (nullable = true)\n",
      " |-- Business Entity Type 1: integer (nullable = true)\n",
      " |-- Cleaning: integer (nullable = true)\n",
      " |-- Transport: type 3: integer (nullable = true)\n",
      " |-- Mobile: integer (nullable = true)\n",
      " |-- Transport: type 1: integer (nullable = true)\n",
      " |-- Trade: type 4: integer (nullable = true)\n",
      " |-- Kindergarten: integer (nullable = true)\n",
      " |-- Legal Services: integer (nullable = true)\n",
      " |-- Industry: type 1: integer (nullable = true)\n",
      " |-- Trade: type 1: integer (nullable = true)\n",
      " |-- Transport: type 4: integer (nullable = true)\n",
      " |-- University: integer (nullable = true)\n",
      "\n"
     ]
    }
   ],
   "source": [
    "df_final.printSchema()"
   ]
  },
  {
   "cell_type": "markdown",
   "metadata": {},
   "source": [
    "Work the missing values in exit_source columns"
   ]
  },
  {
   "cell_type": "code",
   "execution_count": 65,
   "metadata": {},
   "outputs": [
    {
     "name": "stdout",
     "output_type": "stream",
     "text": [
      "+-------------------+-------------------+-------------------+\n",
      "|       EXT_SOURCE_1|       EXT_SOURCE_2|       EXT_SOURCE_3|\n",
      "+-------------------+-------------------+-------------------+\n",
      "|0.08303696739132256| 0.2629485927471776|0.13937578009978951|\n",
      "| 0.3112673113812225| 0.6222457752555098|               null|\n",
      "|               null| 0.5559120833904428| 0.7295666907060153|\n",
      "|               null| 0.6504416904014653|               null|\n",
      "|               null| 0.3227382869704046|               null|\n",
      "|               null| 0.3542247319929012| 0.6212263380626669|\n",
      "| 0.7747614130547695| 0.7239998516953141| 0.4920600938649263|\n",
      "|               null| 0.7142792864482229| 0.5406544504453575|\n",
      "|               null| 0.7466436294590924|               null|\n",
      "| 0.3197601716755032| 0.6518623334244781|  0.363945238612397|\n",
      "| 0.4648311169632833| 0.7150418188660659| 0.1766525794312139|\n",
      "|               null| 0.5669066132460429| 0.7700870700124128|\n",
      "| 0.7219397686622343| 0.6426562048311103|               null|\n",
      "|0.11563433726229973|   0.34663398139668| 0.6785676886853644|\n",
      "|               null| 0.2363778398884225|0.06210303783729682|\n",
      "|               null| 0.6835133461914255|               null|\n",
      "|               null| 0.7064284028871654| 0.5567274263630174|\n",
      "|               null| 0.5866171400119664| 0.4776491548517548|\n",
      "| 0.5656548824667073|0.11337451271992707|               null|\n",
      "|0.43770901984754174| 0.2337669575081463| 0.5424451438613613|\n",
      "+-------------------+-------------------+-------------------+\n",
      "only showing top 20 rows\n",
      "\n"
     ]
    }
   ],
   "source": [
    "df_final.select([c for c in df.columns if c in ['EXT_SOURCE_1','EXT_SOURCE_2','EXT_SOURCE_3']]).show()\n",
    "exit_df = df_final.select([c for c in df.columns if c in ['SK_ID_CURR','EXT_SOURCE_1','EXT_SOURCE_2','EXT_SOURCE_3']])"
   ]
  },
  {
   "cell_type": "markdown",
   "metadata": {},
   "source": [
    "Since they are numerical, I will try a mean imputation to fill null values, keeping these columns in for the ml_df below."
   ]
  },
  {
   "cell_type": "code",
   "execution_count": 66,
   "metadata": {},
   "outputs": [],
   "source": [
    "def fill_with_mean(df, exclude=set()): \n",
    "    stats = df.agg(*(\n",
    "        fn.avg(c).alias(c) for c in df.columns if c not in exclude\n",
    "    ))\n",
    "    return df.na.fill(stats.first().asDict())"
   ]
  },
  {
   "cell_type": "code",
   "execution_count": 67,
   "metadata": {},
   "outputs": [],
   "source": [
    "exit_df_clean = fill_with_mean(exit_df, ['SK_ID_CURR'])"
   ]
  },
  {
   "cell_type": "code",
   "execution_count": 68,
   "metadata": {},
   "outputs": [],
   "source": [
    "del exit_df"
   ]
  },
  {
   "cell_type": "code",
   "execution_count": 69,
   "metadata": {},
   "outputs": [],
   "source": [
    "exit_df_clean = exit_df_clean.withColumnRenamed(\"EXT_SOURCE_1\", \"EXT_SOURCE_1_clean\").\\\n",
    "                withColumnRenamed(\"EXT_SOURCE_2\", \"EXT_SOURCE_2_clean\").\\\n",
    "                withColumnRenamed(\"EXT_SOURCE_3\", \"EXT_SOURCE_3_clean\")"
   ]
  },
  {
   "cell_type": "code",
   "execution_count": 70,
   "metadata": {},
   "outputs": [
    {
     "name": "stdout",
     "output_type": "stream",
     "text": [
      "+----------+-------------------+------------------+-------------------+\n",
      "|SK_ID_CURR| EXT_SOURCE_1_clean|EXT_SOURCE_2_clean| EXT_SOURCE_3_clean|\n",
      "+----------+-------------------+------------------+-------------------+\n",
      "|    100002|0.08303696739132256|0.2629485927471776|0.13937578009978951|\n",
      "|    100003| 0.3112673113812225|0.6222457752555098| 0.5009057167336302|\n",
      "|    100004| 0.4796136737107814|0.5559120833904428| 0.7295666907060153|\n",
      "|    100006| 0.4796136737107814|0.6504416904014653| 0.5009057167336302|\n",
      "|    100007| 0.4796136737107814|0.3227382869704046| 0.5009057167336302|\n",
      "|    100008| 0.4796136737107814|0.3542247319929012| 0.6212263380626669|\n",
      "|    100009| 0.7747614130547695|0.7239998516953141| 0.4920600938649263|\n",
      "|    100010| 0.4796136737107814|0.7142792864482229| 0.5406544504453575|\n",
      "|    100012| 0.4796136737107814|0.7466436294590924| 0.5009057167336302|\n",
      "|    100014| 0.3197601716755032|0.6518623334244781|  0.363945238612397|\n",
      "+----------+-------------------+------------------+-------------------+\n",
      "only showing top 10 rows\n",
      "\n"
     ]
    }
   ],
   "source": [
    "exit_df_clean.show(10)"
   ]
  },
  {
   "cell_type": "markdown",
   "metadata": {},
   "source": [
    "Read in credit card balance data"
   ]
  },
  {
   "cell_type": "code",
   "execution_count": 71,
   "metadata": {},
   "outputs": [],
   "source": [
    "card_balance = spark.read.format(\"csv\").\\\n",
    "    option(\"header\", \"true\").\\\n",
    "    option(\"inferSchema\", \"true\").\\\n",
    "     load(\"credit_card_balance.csv\")"
   ]
  },
  {
   "cell_type": "code",
   "execution_count": 72,
   "metadata": {},
   "outputs": [
    {
     "name": "stdout",
     "output_type": "stream",
     "text": [
      "root\n",
      " |-- SK_ID_PREV: integer (nullable = true)\n",
      " |-- SK_ID_CURR: integer (nullable = true)\n",
      " |-- MONTHS_BALANCE: integer (nullable = true)\n",
      " |-- AMT_BALANCE: double (nullable = true)\n",
      " |-- AMT_CREDIT_LIMIT_ACTUAL: integer (nullable = true)\n",
      " |-- AMT_DRAWINGS_ATM_CURRENT: double (nullable = true)\n",
      " |-- AMT_DRAWINGS_CURRENT: double (nullable = true)\n",
      " |-- AMT_DRAWINGS_OTHER_CURRENT: double (nullable = true)\n",
      " |-- AMT_DRAWINGS_POS_CURRENT: double (nullable = true)\n",
      " |-- AMT_INST_MIN_REGULARITY: double (nullable = true)\n",
      " |-- AMT_PAYMENT_CURRENT: double (nullable = true)\n",
      " |-- AMT_PAYMENT_TOTAL_CURRENT: double (nullable = true)\n",
      " |-- AMT_RECEIVABLE_PRINCIPAL: double (nullable = true)\n",
      " |-- AMT_RECIVABLE: double (nullable = true)\n",
      " |-- AMT_TOTAL_RECEIVABLE: double (nullable = true)\n",
      " |-- CNT_DRAWINGS_ATM_CURRENT: double (nullable = true)\n",
      " |-- CNT_DRAWINGS_CURRENT: integer (nullable = true)\n",
      " |-- CNT_DRAWINGS_OTHER_CURRENT: double (nullable = true)\n",
      " |-- CNT_DRAWINGS_POS_CURRENT: double (nullable = true)\n",
      " |-- CNT_INSTALMENT_MATURE_CUM: double (nullable = true)\n",
      " |-- NAME_CONTRACT_STATUS: string (nullable = true)\n",
      " |-- SK_DPD: integer (nullable = true)\n",
      " |-- SK_DPD_DEF: integer (nullable = true)\n",
      "\n"
     ]
    }
   ],
   "source": [
    "card_balance.printSchema()"
   ]
  },
  {
   "cell_type": "code",
   "execution_count": 73,
   "metadata": {},
   "outputs": [
    {
     "data": {
      "text/html": [
       "<div>\n",
       "<style scoped>\n",
       "    .dataframe tbody tr th:only-of-type {\n",
       "        vertical-align: middle;\n",
       "    }\n",
       "\n",
       "    .dataframe tbody tr th {\n",
       "        vertical-align: top;\n",
       "    }\n",
       "\n",
       "    .dataframe thead th {\n",
       "        text-align: right;\n",
       "    }\n",
       "</style>\n",
       "<table border=\"1\" class=\"dataframe\">\n",
       "  <thead>\n",
       "    <tr style=\"text-align: right;\">\n",
       "      <th></th>\n",
       "      <th>SK_ID_PREV</th>\n",
       "      <th>SK_ID_CURR</th>\n",
       "      <th>MONTHS_BALANCE</th>\n",
       "      <th>AMT_BALANCE</th>\n",
       "      <th>AMT_CREDIT_LIMIT_ACTUAL</th>\n",
       "      <th>AMT_DRAWINGS_ATM_CURRENT</th>\n",
       "      <th>AMT_DRAWINGS_CURRENT</th>\n",
       "      <th>AMT_DRAWINGS_OTHER_CURRENT</th>\n",
       "      <th>AMT_DRAWINGS_POS_CURRENT</th>\n",
       "      <th>AMT_INST_MIN_REGULARITY</th>\n",
       "      <th>...</th>\n",
       "      <th>AMT_RECIVABLE</th>\n",
       "      <th>AMT_TOTAL_RECEIVABLE</th>\n",
       "      <th>CNT_DRAWINGS_ATM_CURRENT</th>\n",
       "      <th>CNT_DRAWINGS_CURRENT</th>\n",
       "      <th>CNT_DRAWINGS_OTHER_CURRENT</th>\n",
       "      <th>CNT_DRAWINGS_POS_CURRENT</th>\n",
       "      <th>CNT_INSTALMENT_MATURE_CUM</th>\n",
       "      <th>NAME_CONTRACT_STATUS</th>\n",
       "      <th>SK_DPD</th>\n",
       "      <th>SK_DPD_DEF</th>\n",
       "    </tr>\n",
       "  </thead>\n",
       "  <tbody>\n",
       "    <tr>\n",
       "      <th>0</th>\n",
       "      <td>2562384</td>\n",
       "      <td>378907</td>\n",
       "      <td>-6</td>\n",
       "      <td>56.970</td>\n",
       "      <td>135000</td>\n",
       "      <td>0.0</td>\n",
       "      <td>877.500</td>\n",
       "      <td>0.0</td>\n",
       "      <td>877.500</td>\n",
       "      <td>1700.325</td>\n",
       "      <td>...</td>\n",
       "      <td>0.000</td>\n",
       "      <td>0.000</td>\n",
       "      <td>0.0</td>\n",
       "      <td>1</td>\n",
       "      <td>0.0</td>\n",
       "      <td>1.0</td>\n",
       "      <td>35.0</td>\n",
       "      <td>Active</td>\n",
       "      <td>0</td>\n",
       "      <td>0</td>\n",
       "    </tr>\n",
       "    <tr>\n",
       "      <th>1</th>\n",
       "      <td>2582071</td>\n",
       "      <td>363914</td>\n",
       "      <td>-1</td>\n",
       "      <td>63975.555</td>\n",
       "      <td>45000</td>\n",
       "      <td>2250.0</td>\n",
       "      <td>2250.000</td>\n",
       "      <td>0.0</td>\n",
       "      <td>0.000</td>\n",
       "      <td>2250.000</td>\n",
       "      <td>...</td>\n",
       "      <td>64875.555</td>\n",
       "      <td>64875.555</td>\n",
       "      <td>1.0</td>\n",
       "      <td>1</td>\n",
       "      <td>0.0</td>\n",
       "      <td>0.0</td>\n",
       "      <td>69.0</td>\n",
       "      <td>Active</td>\n",
       "      <td>0</td>\n",
       "      <td>0</td>\n",
       "    </tr>\n",
       "    <tr>\n",
       "      <th>2</th>\n",
       "      <td>1740877</td>\n",
       "      <td>371185</td>\n",
       "      <td>-7</td>\n",
       "      <td>31815.225</td>\n",
       "      <td>450000</td>\n",
       "      <td>0.0</td>\n",
       "      <td>0.000</td>\n",
       "      <td>0.0</td>\n",
       "      <td>0.000</td>\n",
       "      <td>2250.000</td>\n",
       "      <td>...</td>\n",
       "      <td>31460.085</td>\n",
       "      <td>31460.085</td>\n",
       "      <td>0.0</td>\n",
       "      <td>0</td>\n",
       "      <td>0.0</td>\n",
       "      <td>0.0</td>\n",
       "      <td>30.0</td>\n",
       "      <td>Active</td>\n",
       "      <td>0</td>\n",
       "      <td>0</td>\n",
       "    </tr>\n",
       "    <tr>\n",
       "      <th>3</th>\n",
       "      <td>1389973</td>\n",
       "      <td>337855</td>\n",
       "      <td>-4</td>\n",
       "      <td>236572.110</td>\n",
       "      <td>225000</td>\n",
       "      <td>2250.0</td>\n",
       "      <td>2250.000</td>\n",
       "      <td>0.0</td>\n",
       "      <td>0.000</td>\n",
       "      <td>11795.760</td>\n",
       "      <td>...</td>\n",
       "      <td>233048.970</td>\n",
       "      <td>233048.970</td>\n",
       "      <td>1.0</td>\n",
       "      <td>1</td>\n",
       "      <td>0.0</td>\n",
       "      <td>0.0</td>\n",
       "      <td>10.0</td>\n",
       "      <td>Active</td>\n",
       "      <td>0</td>\n",
       "      <td>0</td>\n",
       "    </tr>\n",
       "    <tr>\n",
       "      <th>4</th>\n",
       "      <td>1891521</td>\n",
       "      <td>126868</td>\n",
       "      <td>-1</td>\n",
       "      <td>453919.455</td>\n",
       "      <td>450000</td>\n",
       "      <td>0.0</td>\n",
       "      <td>11547.000</td>\n",
       "      <td>0.0</td>\n",
       "      <td>11547.000</td>\n",
       "      <td>22924.890</td>\n",
       "      <td>...</td>\n",
       "      <td>453919.455</td>\n",
       "      <td>453919.455</td>\n",
       "      <td>0.0</td>\n",
       "      <td>1</td>\n",
       "      <td>0.0</td>\n",
       "      <td>1.0</td>\n",
       "      <td>101.0</td>\n",
       "      <td>Active</td>\n",
       "      <td>0</td>\n",
       "      <td>0</td>\n",
       "    </tr>\n",
       "    <tr>\n",
       "      <th>5</th>\n",
       "      <td>2646502</td>\n",
       "      <td>380010</td>\n",
       "      <td>-7</td>\n",
       "      <td>82903.815</td>\n",
       "      <td>270000</td>\n",
       "      <td>0.0</td>\n",
       "      <td>0.000</td>\n",
       "      <td>0.0</td>\n",
       "      <td>0.000</td>\n",
       "      <td>4449.105</td>\n",
       "      <td>...</td>\n",
       "      <td>82773.315</td>\n",
       "      <td>82773.315</td>\n",
       "      <td>0.0</td>\n",
       "      <td>0</td>\n",
       "      <td>0.0</td>\n",
       "      <td>0.0</td>\n",
       "      <td>2.0</td>\n",
       "      <td>Active</td>\n",
       "      <td>7</td>\n",
       "      <td>0</td>\n",
       "    </tr>\n",
       "    <tr>\n",
       "      <th>6</th>\n",
       "      <td>1079071</td>\n",
       "      <td>171320</td>\n",
       "      <td>-6</td>\n",
       "      <td>353451.645</td>\n",
       "      <td>585000</td>\n",
       "      <td>67500.0</td>\n",
       "      <td>67500.000</td>\n",
       "      <td>0.0</td>\n",
       "      <td>0.000</td>\n",
       "      <td>14684.175</td>\n",
       "      <td>...</td>\n",
       "      <td>351881.145</td>\n",
       "      <td>351881.145</td>\n",
       "      <td>1.0</td>\n",
       "      <td>1</td>\n",
       "      <td>0.0</td>\n",
       "      <td>0.0</td>\n",
       "      <td>6.0</td>\n",
       "      <td>Active</td>\n",
       "      <td>0</td>\n",
       "      <td>0</td>\n",
       "    </tr>\n",
       "    <tr>\n",
       "      <th>7</th>\n",
       "      <td>2095912</td>\n",
       "      <td>118650</td>\n",
       "      <td>-7</td>\n",
       "      <td>47962.125</td>\n",
       "      <td>45000</td>\n",
       "      <td>45000.0</td>\n",
       "      <td>45000.000</td>\n",
       "      <td>0.0</td>\n",
       "      <td>0.000</td>\n",
       "      <td>0.000</td>\n",
       "      <td>...</td>\n",
       "      <td>47962.125</td>\n",
       "      <td>47962.125</td>\n",
       "      <td>1.0</td>\n",
       "      <td>1</td>\n",
       "      <td>0.0</td>\n",
       "      <td>0.0</td>\n",
       "      <td>51.0</td>\n",
       "      <td>Active</td>\n",
       "      <td>0</td>\n",
       "      <td>0</td>\n",
       "    </tr>\n",
       "    <tr>\n",
       "      <th>8</th>\n",
       "      <td>2181852</td>\n",
       "      <td>367360</td>\n",
       "      <td>-4</td>\n",
       "      <td>291543.075</td>\n",
       "      <td>292500</td>\n",
       "      <td>90000.0</td>\n",
       "      <td>289339.425</td>\n",
       "      <td>0.0</td>\n",
       "      <td>199339.425</td>\n",
       "      <td>130.500</td>\n",
       "      <td>...</td>\n",
       "      <td>286831.575</td>\n",
       "      <td>286831.575</td>\n",
       "      <td>3.0</td>\n",
       "      <td>8</td>\n",
       "      <td>0.0</td>\n",
       "      <td>5.0</td>\n",
       "      <td>3.0</td>\n",
       "      <td>Active</td>\n",
       "      <td>0</td>\n",
       "      <td>0</td>\n",
       "    </tr>\n",
       "    <tr>\n",
       "      <th>9</th>\n",
       "      <td>1235299</td>\n",
       "      <td>203885</td>\n",
       "      <td>-5</td>\n",
       "      <td>201261.195</td>\n",
       "      <td>225000</td>\n",
       "      <td>76500.0</td>\n",
       "      <td>111026.700</td>\n",
       "      <td>0.0</td>\n",
       "      <td>34526.700</td>\n",
       "      <td>6338.340</td>\n",
       "      <td>...</td>\n",
       "      <td>197224.695</td>\n",
       "      <td>197224.695</td>\n",
       "      <td>3.0</td>\n",
       "      <td>9</td>\n",
       "      <td>0.0</td>\n",
       "      <td>6.0</td>\n",
       "      <td>38.0</td>\n",
       "      <td>Active</td>\n",
       "      <td>0</td>\n",
       "      <td>0</td>\n",
       "    </tr>\n",
       "  </tbody>\n",
       "</table>\n",
       "<p>10 rows × 23 columns</p>\n",
       "</div>"
      ],
      "text/plain": [
       "   SK_ID_PREV  SK_ID_CURR  MONTHS_BALANCE  AMT_BALANCE  \\\n",
       "0     2562384      378907              -6       56.970   \n",
       "1     2582071      363914              -1    63975.555   \n",
       "2     1740877      371185              -7    31815.225   \n",
       "3     1389973      337855              -4   236572.110   \n",
       "4     1891521      126868              -1   453919.455   \n",
       "5     2646502      380010              -7    82903.815   \n",
       "6     1079071      171320              -6   353451.645   \n",
       "7     2095912      118650              -7    47962.125   \n",
       "8     2181852      367360              -4   291543.075   \n",
       "9     1235299      203885              -5   201261.195   \n",
       "\n",
       "   AMT_CREDIT_LIMIT_ACTUAL  AMT_DRAWINGS_ATM_CURRENT  AMT_DRAWINGS_CURRENT  \\\n",
       "0                   135000                       0.0               877.500   \n",
       "1                    45000                    2250.0              2250.000   \n",
       "2                   450000                       0.0                 0.000   \n",
       "3                   225000                    2250.0              2250.000   \n",
       "4                   450000                       0.0             11547.000   \n",
       "5                   270000                       0.0                 0.000   \n",
       "6                   585000                   67500.0             67500.000   \n",
       "7                    45000                   45000.0             45000.000   \n",
       "8                   292500                   90000.0            289339.425   \n",
       "9                   225000                   76500.0            111026.700   \n",
       "\n",
       "   AMT_DRAWINGS_OTHER_CURRENT  AMT_DRAWINGS_POS_CURRENT  \\\n",
       "0                         0.0                   877.500   \n",
       "1                         0.0                     0.000   \n",
       "2                         0.0                     0.000   \n",
       "3                         0.0                     0.000   \n",
       "4                         0.0                 11547.000   \n",
       "5                         0.0                     0.000   \n",
       "6                         0.0                     0.000   \n",
       "7                         0.0                     0.000   \n",
       "8                         0.0                199339.425   \n",
       "9                         0.0                 34526.700   \n",
       "\n",
       "   AMT_INST_MIN_REGULARITY     ...      AMT_RECIVABLE  AMT_TOTAL_RECEIVABLE  \\\n",
       "0                 1700.325     ...              0.000                 0.000   \n",
       "1                 2250.000     ...          64875.555             64875.555   \n",
       "2                 2250.000     ...          31460.085             31460.085   \n",
       "3                11795.760     ...         233048.970            233048.970   \n",
       "4                22924.890     ...         453919.455            453919.455   \n",
       "5                 4449.105     ...          82773.315             82773.315   \n",
       "6                14684.175     ...         351881.145            351881.145   \n",
       "7                    0.000     ...          47962.125             47962.125   \n",
       "8                  130.500     ...         286831.575            286831.575   \n",
       "9                 6338.340     ...         197224.695            197224.695   \n",
       "\n",
       "   CNT_DRAWINGS_ATM_CURRENT  CNT_DRAWINGS_CURRENT  CNT_DRAWINGS_OTHER_CURRENT  \\\n",
       "0                       0.0                     1                         0.0   \n",
       "1                       1.0                     1                         0.0   \n",
       "2                       0.0                     0                         0.0   \n",
       "3                       1.0                     1                         0.0   \n",
       "4                       0.0                     1                         0.0   \n",
       "5                       0.0                     0                         0.0   \n",
       "6                       1.0                     1                         0.0   \n",
       "7                       1.0                     1                         0.0   \n",
       "8                       3.0                     8                         0.0   \n",
       "9                       3.0                     9                         0.0   \n",
       "\n",
       "   CNT_DRAWINGS_POS_CURRENT  CNT_INSTALMENT_MATURE_CUM  NAME_CONTRACT_STATUS  \\\n",
       "0                       1.0                       35.0                Active   \n",
       "1                       0.0                       69.0                Active   \n",
       "2                       0.0                       30.0                Active   \n",
       "3                       0.0                       10.0                Active   \n",
       "4                       1.0                      101.0                Active   \n",
       "5                       0.0                        2.0                Active   \n",
       "6                       0.0                        6.0                Active   \n",
       "7                       0.0                       51.0                Active   \n",
       "8                       5.0                        3.0                Active   \n",
       "9                       6.0                       38.0                Active   \n",
       "\n",
       "   SK_DPD  SK_DPD_DEF  \n",
       "0       0           0  \n",
       "1       0           0  \n",
       "2       0           0  \n",
       "3       0           0  \n",
       "4       0           0  \n",
       "5       7           0  \n",
       "6       0           0  \n",
       "7       0           0  \n",
       "8       0           0  \n",
       "9       0           0  \n",
       "\n",
       "[10 rows x 23 columns]"
      ]
     },
     "execution_count": 73,
     "metadata": {},
     "output_type": "execute_result"
    }
   ],
   "source": [
    "card_balance.limit(10).toPandas()"
   ]
  },
  {
   "cell_type": "code",
   "execution_count": 74,
   "metadata": {},
   "outputs": [],
   "source": [
    "id_count = card_balance.groupby('SK_ID_CURR').count()"
   ]
  },
  {
   "cell_type": "code",
   "execution_count": 75,
   "metadata": {},
   "outputs": [],
   "source": [
    "sum_limit = card_balance.groupby('SK_ID_CURR').agg(F.sum('AMT_CREDIT_LIMIT_ACTUAL'))"
   ]
  },
  {
   "cell_type": "code",
   "execution_count": 76,
   "metadata": {},
   "outputs": [],
   "source": [
    "avg_limit = id_count.join(sum_limit, 'SK_ID_CURR')"
   ]
  },
  {
   "cell_type": "code",
   "execution_count": 77,
   "metadata": {},
   "outputs": [
    {
     "name": "stdout",
     "output_type": "stream",
     "text": [
      "+----------+-----+----------------------------+------------------+\n",
      "|SK_ID_CURR|count|sum(AMT_CREDIT_LIMIT_ACTUAL)|      avg_cred_lim|\n",
      "+----------+-----+----------------------------+------------------+\n",
      "|    100170|    7|                     2362500|          337500.0|\n",
      "|    100274|   25|                     7605000|          304200.0|\n",
      "|    100800|   11|                      990000|           90000.0|\n",
      "|    102798|   22|                     9900000|          450000.0|\n",
      "|    103747|    6|                           0|               0.0|\n",
      "|    104064|   28|                     5850000|208928.57142857142|\n",
      "|    105536|   92|                    13680000|148695.65217391305|\n",
      "|    105665|   96|                     6480000|           67500.0|\n",
      "|    105796|   96|                     8010000|           83437.5|\n",
      "|    106544|   10|                      450000|           45000.0|\n",
      "+----------+-----+----------------------------+------------------+\n",
      "only showing top 10 rows\n",
      "\n"
     ]
    }
   ],
   "source": [
    "avg_limit = avg_limit.withColumn('avg_cred_lim', (F.col('sum(AMT_CREDIT_LIMIT_ACTUAL)')/(F.col('count'))))\n",
    "avg_limit.show(10)"
   ]
  },
  {
   "cell_type": "code",
   "execution_count": 78,
   "metadata": {},
   "outputs": [],
   "source": [
    "avg_limit = avg_limit.drop('sum(AMT_CREDIT_LIMIT_ACTUAL)','count')"
   ]
  },
  {
   "cell_type": "code",
   "execution_count": 79,
   "metadata": {},
   "outputs": [
    {
     "name": "stdout",
     "output_type": "stream",
     "text": [
      "+----------+------------------------------+\n",
      "|SK_ID_CURR|sum(AMT_PAYMENT_TOTAL_CURRENT)|\n",
      "+----------+------------------------------+\n",
      "|    294744|                     171046.53|\n",
      "|    348429|          1.4755217219999999E7|\n",
      "|    188986|            2263453.6050000004|\n",
      "|    393796|                           0.0|\n",
      "|    119813|                    172632.195|\n",
      "|    156527|                           0.0|\n",
      "|    222048|                    635906.835|\n",
      "|    387852|            233971.28999999998|\n",
      "|    115528|                           0.0|\n",
      "|    357089|            41704.380000000005|\n",
      "+----------+------------------------------+\n",
      "only showing top 10 rows\n",
      "\n"
     ]
    }
   ],
   "source": [
    "amt_payment_toal = card_balance.groupby('SK_ID_CURR').agg(F.sum('AMT_PAYMENT_TOTAL_CURRENT'))\n",
    "amt_payment_toal.show(10)"
   ]
  },
  {
   "cell_type": "code",
   "execution_count": 80,
   "metadata": {},
   "outputs": [],
   "source": [
    "amt_rec_toal = card_balance.groupby('SK_ID_CURR').agg(F.sum('AMT_TOTAL_RECEIVABLE'))"
   ]
  },
  {
   "cell_type": "code",
   "execution_count": 81,
   "metadata": {},
   "outputs": [],
   "source": [
    "id_sums = card_balance.groupby('SK_ID_CURR').agg(F.sum('AMT_BALANCE'))"
   ]
  },
  {
   "cell_type": "code",
   "execution_count": 82,
   "metadata": {},
   "outputs": [],
   "source": [
    "joined_cards = id_sums.join(id_count, 'SK_ID_CURR')"
   ]
  },
  {
   "cell_type": "code",
   "execution_count": 83,
   "metadata": {},
   "outputs": [],
   "source": [
    "joined_cards = joined_cards.join(amt_rec_toal, 'SK_ID_CURR')"
   ]
  },
  {
   "cell_type": "code",
   "execution_count": 84,
   "metadata": {},
   "outputs": [],
   "source": [
    "joined_cards = joined_cards.join(amt_payment_toal, 'SK_ID_CURR')"
   ]
  },
  {
   "cell_type": "code",
   "execution_count": 85,
   "metadata": {},
   "outputs": [],
   "source": [
    "joined_cards = joined_cards.join(avg_limit, 'SK_ID_CURR')"
   ]
  },
  {
   "cell_type": "code",
   "execution_count": 86,
   "metadata": {},
   "outputs": [
    {
     "name": "stdout",
     "output_type": "stream",
     "text": [
      "+----------+-----------------+-----+-------------------------+------------------------------+------------------+\n",
      "|SK_ID_CURR| sum(AMT_BALANCE)|count|sum(AMT_TOTAL_RECEIVABLE)|sum(AMT_PAYMENT_TOTAL_CURRENT)|      avg_cred_lim|\n",
      "+----------+-----------------+-----+-------------------------+------------------------------+------------------+\n",
      "|    100170|      2175422.175|    7|               2138734.71|                       87750.0|          337500.0|\n",
      "|    100274|              0.0|   25|                      0.0|                           0.0|          304200.0|\n",
      "|    100800|         13984.02|   11|                 12638.52|                       11250.0|           90000.0|\n",
      "|    102798|7886136.824999999|   22|        7896447.090000001|                      407038.5|          450000.0|\n",
      "|    103747|              0.0|    6|                      0.0|                     1125000.0|               0.0|\n",
      "|    104064|              0.0|   28|                      0.0|                           0.0|208928.57142857142|\n",
      "|    105536|       8785371.51|   92|               8784518.49|                      738135.0|148695.65217391305|\n",
      "|    105665|       3290589.72|   96|               3289736.97|                     377983.35|           67500.0|\n",
      "|    105796|4045612.499999999|   96|        4047749.819999999|                      304200.0|           83437.5|\n",
      "|    106544|              0.0|   10|                      0.0|                           0.0|           45000.0|\n",
      "+----------+-----------------+-----+-------------------------+------------------------------+------------------+\n",
      "only showing top 10 rows\n",
      "\n"
     ]
    }
   ],
   "source": [
    "joined_cards.show(10)"
   ]
  },
  {
   "cell_type": "code",
   "execution_count": 87,
   "metadata": {},
   "outputs": [],
   "source": [
    "del card_balance "
   ]
  },
  {
   "cell_type": "code",
   "execution_count": 88,
   "metadata": {},
   "outputs": [],
   "source": [
    "joined_df = joined_cards.withColumn('avg_balance', (F.col('sum(AMT_BALANCE)')/(F.col('count'))))"
   ]
  },
  {
   "cell_type": "code",
   "execution_count": 89,
   "metadata": {},
   "outputs": [],
   "source": [
    "del joined_cards"
   ]
  },
  {
   "cell_type": "code",
   "execution_count": 90,
   "metadata": {},
   "outputs": [
    {
     "name": "stdout",
     "output_type": "stream",
     "text": [
      "+----------+-----------------+-----+-------------------------+------------------------------+------------------+------------------+\n",
      "|SK_ID_CURR| sum(AMT_BALANCE)|count|sum(AMT_TOTAL_RECEIVABLE)|sum(AMT_PAYMENT_TOTAL_CURRENT)|      avg_cred_lim|       avg_balance|\n",
      "+----------+-----------------+-----+-------------------------+------------------------------+------------------+------------------+\n",
      "|    100170|      2175422.175|    7|               2138734.71|                       87750.0|          337500.0| 310774.5964285714|\n",
      "|    100274|              0.0|   25|                      0.0|                           0.0|          304200.0|               0.0|\n",
      "|    100800|         13984.02|   11|                 12638.52|                       11250.0|           90000.0|1271.2745454545454|\n",
      "|    102798|7886136.824999999|   22|        7896447.090000001|                      407038.5|          450000.0| 358460.7647727272|\n",
      "|    103747|              0.0|    6|                      0.0|                     1125000.0|               0.0|               0.0|\n",
      "|    104064|              0.0|   28|                      0.0|                           0.0|208928.57142857142|               0.0|\n",
      "|    105536|       8785371.51|   92|               8784518.49|                      738135.0|148695.65217391305| 95493.16858695653|\n",
      "|    105665|       3290589.72|   96|               3289736.97|                     377983.35|           67500.0|       34276.97625|\n",
      "|    105796|4045612.499999999|   96|        4047749.819999999|                      304200.0|           83437.5| 42141.79687499999|\n",
      "|    106544|              0.0|   10|                      0.0|                           0.0|           45000.0|               0.0|\n",
      "+----------+-----------------+-----+-------------------------+------------------------------+------------------+------------------+\n",
      "only showing top 10 rows\n",
      "\n"
     ]
    }
   ],
   "source": [
    "joined_df.show(10)"
   ]
  },
  {
   "cell_type": "code",
   "execution_count": 91,
   "metadata": {},
   "outputs": [
    {
     "name": "stdout",
     "output_type": "stream",
     "text": [
      "+----------+-------------------------+------------------------------+------------------+------------------+\n",
      "|SK_ID_CURR|sum(AMT_TOTAL_RECEIVABLE)|sum(AMT_PAYMENT_TOTAL_CURRENT)|      avg_cred_lim|       avg_balance|\n",
      "+----------+-------------------------+------------------------------+------------------+------------------+\n",
      "|    100170|               2138734.71|                       87750.0|          337500.0| 310774.5964285714|\n",
      "|    100274|                      0.0|                           0.0|          304200.0|               0.0|\n",
      "|    100800|                 12638.52|                       11250.0|           90000.0|1271.2745454545454|\n",
      "|    102798|        7896447.090000001|                      407038.5|          450000.0| 358460.7647727272|\n",
      "|    103747|                      0.0|                     1125000.0|               0.0|               0.0|\n",
      "|    104064|                      0.0|                           0.0|208928.57142857142|               0.0|\n",
      "|    105536|               8784518.49|                      738135.0|148695.65217391305| 95493.16858695653|\n",
      "|    105665|               3289736.97|                     377983.35|           67500.0|       34276.97625|\n",
      "|    105796|        4047749.819999999|                      304200.0|           83437.5| 42141.79687499999|\n",
      "|    106544|                      0.0|                           0.0|           45000.0|               0.0|\n",
      "+----------+-------------------------+------------------------------+------------------+------------------+\n",
      "only showing top 10 rows\n",
      "\n"
     ]
    }
   ],
   "source": [
    "joined_df = joined_df.drop('sum(AMT_BALANCE)','count')\n",
    "joined_df.show(10)"
   ]
  },
  {
   "cell_type": "code",
   "execution_count": 92,
   "metadata": {},
   "outputs": [],
   "source": [
    "joined_df = joined_df.withColumnRenamed(\"sum(AMT_TOTAL_RECEIVABLE)\", \"tot_amt_rec\").\\\n",
    "            withColumnRenamed(\"sum(AMT_PAYMENT_TOTAL_CURRENT)\", \"tot_pay_curr\")"
   ]
  },
  {
   "cell_type": "code",
   "execution_count": 93,
   "metadata": {},
   "outputs": [
    {
     "name": "stdout",
     "output_type": "stream",
     "text": [
      "+----------+-----------------+------------+------------------+------------------+\n",
      "|SK_ID_CURR|      tot_amt_rec|tot_pay_curr|      avg_cred_lim|       avg_balance|\n",
      "+----------+-----------------+------------+------------------+------------------+\n",
      "|    100170|       2138734.71|     87750.0|          337500.0| 310774.5964285714|\n",
      "|    100274|              0.0|         0.0|          304200.0|               0.0|\n",
      "|    100800|         12638.52|     11250.0|           90000.0|1271.2745454545454|\n",
      "|    102798|7896447.090000001|    407038.5|          450000.0| 358460.7647727272|\n",
      "|    103747|              0.0|   1125000.0|               0.0|               0.0|\n",
      "|    104064|              0.0|         0.0|208928.57142857142|               0.0|\n",
      "|    105536|       8784518.49|    738135.0|148695.65217391305| 95493.16858695653|\n",
      "|    105665|       3289736.97|   377983.35|           67500.0|       34276.97625|\n",
      "|    105796|4047749.819999999|    304200.0|           83437.5| 42141.79687499999|\n",
      "|    106544|              0.0|         0.0|           45000.0|               0.0|\n",
      "+----------+-----------------+------------+------------------+------------------+\n",
      "only showing top 10 rows\n",
      "\n"
     ]
    }
   ],
   "source": [
    "joined_df.show(10)"
   ]
  },
  {
   "cell_type": "code",
   "execution_count": 94,
   "metadata": {},
   "outputs": [],
   "source": [
    "df_final_1 = df_final.join(joined_df, 'SK_ID_CURR', how='left')"
   ]
  },
  {
   "cell_type": "code",
   "execution_count": 95,
   "metadata": {},
   "outputs": [],
   "source": [
    "del df_final"
   ]
  },
  {
   "cell_type": "code",
   "execution_count": 96,
   "metadata": {},
   "outputs": [],
   "source": [
    "df_final_2 = df_final_1.join(exit_df_clean, 'SK_ID_CURR', how='left')"
   ]
  },
  {
   "cell_type": "code",
   "execution_count": 97,
   "metadata": {},
   "outputs": [],
   "source": [
    "del df_final_1"
   ]
  },
  {
   "cell_type": "code",
   "execution_count": 98,
   "metadata": {},
   "outputs": [],
   "source": [
    "df_final_2 = df_final_2.drop('EXT_SOURCE_1','EXT_SOURCE_2','EXT_SOURCE_3')"
   ]
  },
  {
   "cell_type": "markdown",
   "metadata": {},
   "source": [
    "Need to fill the features created with mean in the joined dataframe so they are not dropped."
   ]
  },
  {
   "cell_type": "code",
   "execution_count": 99,
   "metadata": {},
   "outputs": [],
   "source": [
    "from pyspark.sql.functions import mean\n",
    "\n",
    "avg_avg_balance = df_final_2.agg(mean(df_final_2['avg_balance'])).collect()[0]\n",
    "avg_avg_cred_lim = df_final_2.agg(mean(df_final_2['avg_cred_lim'])).collect()[0]\n",
    "avg_tot_amt_rec = df_final_2.agg(mean(df_final_2['tot_amt_rec'])).collect()[0]\n",
    "avg_tot_pay_curr = df_final_2.agg(mean(df_final_2['tot_pay_curr'])).collect()[0]"
   ]
  },
  {
   "cell_type": "code",
   "execution_count": 100,
   "metadata": {},
   "outputs": [
    {
     "data": {
      "text/plain": [
       "Row(avg(avg_balance)=74491.21812434169)"
      ]
     },
     "execution_count": 100,
     "metadata": {},
     "output_type": "execute_result"
    }
   ],
   "source": [
    "avg_avg_balance"
   ]
  },
  {
   "cell_type": "code",
   "execution_count": 101,
   "metadata": {},
   "outputs": [],
   "source": [
    "avg_avg_balance_num = 74491.21812434169"
   ]
  },
  {
   "cell_type": "code",
   "execution_count": 102,
   "metadata": {},
   "outputs": [
    {
     "data": {
      "text/plain": [
       "Row(avg(avg_cred_lim)=214360.63570436096)"
      ]
     },
     "execution_count": 102,
     "metadata": {},
     "output_type": "execute_result"
    }
   ],
   "source": [
    "avg_avg_cred_lim"
   ]
  },
  {
   "cell_type": "code",
   "execution_count": 103,
   "metadata": {},
   "outputs": [],
   "source": [
    "avg_avg_cred_lim_num = 214360.63570436096"
   ]
  },
  {
   "cell_type": "code",
   "execution_count": 104,
   "metadata": {},
   "outputs": [
    {
     "data": {
      "text/plain": [
       "Row(avg(tot_pay_curr)=286723.22028139123)"
      ]
     },
     "execution_count": 104,
     "metadata": {},
     "output_type": "execute_result"
    }
   ],
   "source": [
    "avg_tot_pay_curr"
   ]
  },
  {
   "cell_type": "code",
   "execution_count": 105,
   "metadata": {},
   "outputs": [],
   "source": [
    "avg_tot_pay_curr_num = 286723.22028139123"
   ]
  },
  {
   "cell_type": "code",
   "execution_count": 106,
   "metadata": {},
   "outputs": [],
   "source": [
    "avg_tot_amt_rec_num = 2198089.5999815087"
   ]
  },
  {
   "cell_type": "code",
   "execution_count": 107,
   "metadata": {},
   "outputs": [],
   "source": [
    "df_final_2 = df_final_2.fillna(avg_avg_balance_num, subset=['avg_balance'])\n",
    "df_final_2 = df_final_2.fillna(avg_avg_cred_lim_num, subset=['avg_cred_lim'])\n",
    "df_final_2 = df_final_2.fillna(avg_tot_amt_rec_num, subset=['tot_amt_rec'])\n",
    "df_final_2 = df_final_2.fillna(avg_tot_pay_curr_num, subset=['tot_pay_curr'])"
   ]
  },
  {
   "cell_type": "code",
   "execution_count": 108,
   "metadata": {},
   "outputs": [],
   "source": [
    "# import pandas as pd\n",
    "# df_pandas = df_final_2.toPandas()"
   ]
  },
  {
   "cell_type": "code",
   "execution_count": 109,
   "metadata": {},
   "outputs": [],
   "source": [
    "# def missing_values_table(df):\n",
    "        # Total missing values\n",
    "        # mis_val = df.isnull().sum()\n",
    "        \n",
    "        # Percentage of missing values\n",
    "        # mis_val_percent = 100 * df.isnull().sum() / len(df)\n",
    "        \n",
    "        # Make a table with the results\n",
    "        # mis_val_table = pd.concat([mis_val, mis_val_percent], axis=1)\n",
    "        \n",
    "        # Rename the columns\n",
    "        # mis_val_table_ren_columns = mis_val_table.rename(\n",
    "        # columns = {0 : 'Missing Values', 1 : '% of Total Values'})\n",
    "        \n",
    "        # Sort the table by percentage of missing descending\n",
    "        # mis_val_table_ren_columns = mis_val_table_ren_columns[\n",
    "            # mis_val_table_ren_columns.iloc[:,1] != 0].sort_values(\n",
    "        # '% of Total Values', ascending=False).round(1)\n",
    "        \n",
    "        # Print some summary information\n",
    "        # print (\"Your selected dataframe has \" + str(df.shape[1]) + \" columns.\\n\"      \n",
    "            # \"There are \" + str(mis_val_table_ren_columns.shape[0]) +\n",
    "              # \" columns that have missing values.\")\n",
    "        \n",
    "        # Return the dataframe with missing information\n",
    "        # return mis_val_table_ren_columns"
   ]
  },
  {
   "cell_type": "code",
   "execution_count": 110,
   "metadata": {},
   "outputs": [],
   "source": [
    "# missing_values_table(df_pandas)"
   ]
  },
  {
   "cell_type": "code",
   "execution_count": 111,
   "metadata": {},
   "outputs": [],
   "source": [
    "# get correlations\n",
    "# correlations = df_pandas.corr()['TARGET'].sort_values()\n",
    "\n",
    "# Display correlations\n",
    "# print('Most Positive Correlations:\\n', correlations.tail(15))\n",
    "# print('\\nMost Negative Correlations:\\n', correlations.head(15))"
   ]
  },
  {
   "cell_type": "markdown",
   "metadata": {},
   "source": [
    "build model_df"
   ]
  },
  {
   "cell_type": "code",
   "execution_count": 112,
   "metadata": {},
   "outputs": [],
   "source": [
    "ml_df = df_final_2.drop('SK_ID_CURR')"
   ]
  },
  {
   "cell_type": "code",
   "execution_count": 113,
   "metadata": {},
   "outputs": [],
   "source": [
    "def drop_null_columns(df):\n",
    "    \"\"\"\n",
    "    This function drops all columns which contain null values.\n",
    "    :param df: A PySpark DataFrame\n",
    "    \"\"\"\n",
    "    null_counts = df.select([F.count(F.when(F.col(c).isNull(), c)).alias(c) for c in df.columns]).collect()[0].asDict()\n",
    "    to_drop = [k for k, v in null_counts.items() if v > 0]\n",
    "    df = df.drop(*to_drop)\n",
    "    return df"
   ]
  },
  {
   "cell_type": "code",
   "execution_count": 114,
   "metadata": {},
   "outputs": [],
   "source": [
    "ml_df_1 = drop_null_columns(ml_df)"
   ]
  },
  {
   "cell_type": "markdown",
   "metadata": {},
   "source": [
    "Write to .csv:"
   ]
  },
  {
   "cell_type": "code",
   "execution_count": 117,
   "metadata": {},
   "outputs": [
    {
     "name": "stderr",
     "output_type": "stream",
     "text": [
      "----------------------------------------\n",
      "Exception happened during processing of request from ('127.0.0.1', 55740)\n",
      "Traceback (most recent call last):\n",
      "  File \"/opt/conda/lib/python3.6/socketserver.py\", line 317, in _handle_request_noblock\n",
      "    self.process_request(request, client_address)\n",
      "  File \"/opt/conda/lib/python3.6/socketserver.py\", line 348, in process_request\n",
      "    self.finish_request(request, client_address)\n",
      "  File \"/opt/conda/lib/python3.6/socketserver.py\", line 361, in finish_request\n",
      "    self.RequestHandlerClass(request, client_address, self)\n",
      "  File \"/opt/conda/lib/python3.6/socketserver.py\", line 721, in __init__\n",
      "    self.handle()\n",
      "  File \"/usr/local/spark/python/pyspark/accumulators.py\", line 235, in handle\n",
      "    num_updates = read_int(self.rfile)\n",
      "  File \"/usr/local/spark/python/pyspark/serializers.py\", line 685, in read_int\n",
      "    raise EOFError\n",
      "EOFError\n",
      "----------------------------------------\n"
     ]
    }
   ],
   "source": [
    "ml_df_1.coalesce(1).write.format('com.databricks.spark.csv').save('ml_df_test.csv',header = 'true')"
   ]
  }
 ],
 "metadata": {
  "kernelspec": {
   "display_name": "Python 3",
   "language": "python",
   "name": "python3"
  },
  "language_info": {
   "codemirror_mode": {
    "name": "ipython",
    "version": 3
   },
   "file_extension": ".py",
   "mimetype": "text/x-python",
   "name": "python",
   "nbconvert_exporter": "python",
   "pygments_lexer": "ipython3",
   "version": "3.6.6"
  }
 },
 "nbformat": 4,
 "nbformat_minor": 2
}
